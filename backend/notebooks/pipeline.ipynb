{
 "cells": [
  {
   "cell_type": "markdown",
   "metadata": {},
   "source": [
    "## Notebook for Running Preprocessing Pipeline"
   ]
  },
  {
   "cell_type": "code",
   "execution_count": 16,
   "metadata": {},
   "outputs": [],
   "source": [
    "import os\n",
    "from pipeline import extract_ontology_description"
   ]
  },
  {
   "cell_type": "code",
   "execution_count": 17,
   "metadata": {},
   "outputs": [],
   "source": [
    "os.chdir(path='../')"
   ]
  },
  {
   "cell_type": "code",
   "execution_count": 18,
   "metadata": {},
   "outputs": [],
   "source": [
    "ont_description = extract_ontology_description('data/to_test.ttl')"
   ]
  },
  {
   "cell_type": "code",
   "execution_count": 21,
   "metadata": {},
   "outputs": [],
   "source": [
    "with open('data/ontology_description.txt', 'w') as file:\n",
    "    file.write(ont_description)"
   ]
  },
  {
   "cell_type": "code",
   "execution_count": 22,
   "metadata": {},
   "outputs": [
    {
     "data": {
      "text/plain": [
       "'Classes:\\n- <https://test.org/dsp_groupf1/def#SP_Building_A1_Doors> (No label)\\n- <https://test.org/dsp_groupf1/def#SP_Building_E_Floor2_LightingSystem> (No label)\\n- <https://test.org/dsp_groupf1/def#SP_Building_F1_Doors> (No label)\\n- <https://test.org/dsp_groupf1/def#SP_Building_G_Doors> (No label)\\n- <https://test.org/dsp_groupf1/def#SP_Building_E_Floor1_LightingSystem> (No label)\\n- <https://test.org/dsp_groupf1/def#Floor1_B> (No label)\\n- <https://test.org/dsp_groupf1/def#SP_Building_F> (No label)\\n- <https://test.org/dsp_groupf1/def#LightingSystemUnion> (No label)\\n- <https://test.org/dsp_groupf1/def#SP904> (No label)\\n- <https://test.org/dsp_groupf1/def#SP_Building_A_Floor1_LightingSystem> (No label)\\n- <https://test.org/dsp_groupf1/def#Floor1_F> (No label)\\n- <https://test.org/dsp_groupf1/def#SP_Building_E1_Doors> (No label)\\n- <https://test.org/dsp_groupf1/def#SP_Building_G> (No label)\\n- <https://test.org/dsp_groupf1/def#SP_Building_E> (No label)\\n- <https://test.org/dsp_groupf1/def#SP_Building_A_Floor2_LightingSystem> (No label)\\n- <https://test.org/dsp_groupf1/def#SP_Building_D_LightingSystem> (No label)\\n- <https://test.org/dsp_groupf1/def#Floor2_B> (No label)\\n- <https://test.org/dsp_groupf1/def#SP_Building_B1_Doors> (No label)\\n- <https://test.org/dsp_groupf1/def#SP_Building_B_Floor3_LightingSystem> (No label)\\n- <https://test.org/dsp_groupf1/def#SP_Building_F_Floor2_LightingSystem> (No label)\\n- <https://test.org/dsp_groupf1/def#DoorsUnion> (No label)\\n- <https://test.org/dsp_groupf1/def#Floor1_A> (No label)\\n- <https://test.org/dsp_groupf1/def#Floor3_B> (No label)\\n- <https://test.org/dsp_groupf1/def#Floor1_E> (No label)\\n- <https://test.org/dsp_groupf1/def#SP_Building_B_Floor2_LightingSystem> (No label)\\n- <https://test.org/dsp_groupf1/def#SP_Building_F2_Doors> (No label)\\n- <https://test.org/dsp_groupf1/def#SP_Building_G_LightingSystem> (No label)\\n- <https://test.org/dsp_groupf1/def#SP_Building_C_LightingSystem> (No label)\\n- <https://test.org/dsp_groupf1/def#SP_Building_A2_Doors> (No label)\\n- <https://test.org/dsp_groupf1/def#Floor2_F> (No label)\\n- <https://test.org/dsp_groupf1/def#SP_Building_A3_Doors> (No label)\\n- <https://test.org/dsp_groupf1/def#SP_Building_A> (No label)\\n- <https://test.org/dsp_groupf1/def#SP_Building_D_Doors> (No label)\\n- <https://test.org/dsp_groupf1/def#Object> (No label)\\n- <https://test.org/dsp_groupf1/def#SP_Building_B> (No label)\\n- <https://test.org/dsp_groupf1/def#SP_Building_B_Floor1_LightingSystem> (No label)\\n- <https://test.org/dsp_groupf1/def#Floor2_E> (No label)\\n- <https://test.org/dsp_groupf1/def#Floor2_A> (No label)\\n- <https://test.org/dsp_groupf1/def#SP_Building_C_Doors> (No label)\\n- <https://test.org/dsp_groupf1/def#SP_Building_E2_Doors> (No label)\\n- <https://test.org/dsp_groupf1/def#SP_Building_B2_Doors> (No label)\\n- <https://test.org/dsp_groupf1/def#SP_Building_C> (No label)\\n- <https://test.org/dsp_groupf1/def#SP_Building_D> (No label)\\n- <https://test.org/dsp_groupf1/def#SP_Building_B3_Doors> (No label)\\n- <https://test.org/dsp_groupf1/def#SP_Building_F_Floor1_LightingSystem> (No label)\\n- <https://test.org/dsp_groupf1/def#SP_Building_A_Floor3_LightingSystem> (No label)\\n- <https://test.org/dsp_groupf1/def#Floor3_A> (No label)\\n\\nObject Properties:\\n- <https://test.org/dsp_groupf1/def#hasDoor> (label: No label, domain: <https://test.org/dsp_groupf1/def#DoorsUnion>, range: <https://test.org/dsp_groupf1/def#Door>)\\n- <https://test.org/dsp_groupf1/def#hasLightingPart> (label: No label, domain: <https://test.org/dsp_groupf1/def#LightingSystemUnion>, range: <https://test.org/dsp_groupf1/def#Lightbulb>)\\n\\nDatatype Properties:\\n- <https://test.org/dsp_groupf1/def#wattage> (label: No label, domain: <https://test.org/dsp_groupf1/def#Lightbulb>, range: xsd:decimal)\\n- <https://test.org/dsp_groupf1/def#model> (label: No label, domain: <https://test.org/dsp_groupf1/def#Lightbulb>, range: xsd:string)\\n- <https://test.org/dsp_groupf1/def#DoorModel> (label: No label, domain: <https://test.org/dsp_groupf1/def#Door>, range: xsd:string)\\n\\nExample Triples:\\n- <https://test.org/dsp_groupf1/def#SP_Building_B3_Doors> rdfs:subClassOf <https://test.org/dsp_groupf1/def#Floor3_B>.\\n- <https://test.org/dsp_groupf1/def#SP_Building_C_LightingSystem> rdfs:subClassOf <https://test.org/dsp_groupf1/def#SP_Building_C>.\\n- <https://test.org/dsp_groupf1/def#Doors_G> rdf:type <https://test.org/dsp_groupf1/def#Door>.\\n- _:nb91071b3f11047d7a6973b3e5198f9ffb16 rdf:first <https://test.org/dsp_groupf1/def#SP_Building_A3_Doors>.\\n- <https://test.org/dsp_groupf1/def#SP_Building_E> skos:prefLabel \"Building E\".\\n- <https://test.org/dsp_groupf1/def#SP_Building_B1_Doors> rdfs:subClassOf <https://test.org/dsp_groupf1/def#Floor1_B>.\\n- <https://test.org/dsp_groupf1/def#SP_Building_B1_Doors> rdf:type owl:Class.\\n- <https://test.org/dsp_groupf1/def#SP_Building_B2_Doors> <https://test.org/dsp_groupf1/def#hasDoor> <https://test.org/dsp_groupf1/def#Doors_B2>.\\n- <https://test.org/dsp_groupf1/def#Lightbulb_building_B_Floor1> rdf:type <https://test.org/dsp_groupf1/def#Lightbulb>.\\n- <https://test.org/dsp_groupf1/def#Doors_B1> rdf:type <https://test.org/dsp_groupf1/def#Door>.'"
      ]
     },
     "execution_count": 22,
     "metadata": {},
     "output_type": "execute_result"
    }
   ],
   "source": [
    "ont_description"
   ]
  }
 ],
 "metadata": {
  "kernelspec": {
   "display_name": "base",
   "language": "python",
   "name": "python3"
  },
  "language_info": {
   "codemirror_mode": {
    "name": "ipython",
    "version": 3
   },
   "file_extension": ".py",
   "mimetype": "text/x-python",
   "name": "python",
   "nbconvert_exporter": "python",
   "pygments_lexer": "ipython3",
   "version": "3.12.7"
  }
 },
 "nbformat": 4,
 "nbformat_minor": 2
}
