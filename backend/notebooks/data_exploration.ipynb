{
 "cells": [
  {
   "cell_type": "code",
   "execution_count": 17,
   "metadata": {},
   "outputs": [],
   "source": [
    "from rdflib import Graph, Namespace, RDF, RDFS, OWL\n",
    "\n",
    "def extract_ontology_description(turtle_file):\n",
    "    g = Graph()\n",
    "    g.parse(turtle_file, format=\"turtle\")\n",
    "\n",
    "    # Define namespaces\n",
    "    OWL_NS = Namespace(\"http://www.w3.org/2002/07/owl#\")\n",
    "    XSD_NS = Namespace(\"http://www.w3.org/2001/XMLSchema#\")\n",
    "\n",
    "    # Extract Classes\n",
    "    classes = set(g.subjects(RDF.type, OWL_NS.Class))\n",
    "\n",
    "    # Extract Object and Datatype Properties\n",
    "    object_properties = set(g.subjects(RDF.type, OWL_NS.ObjectProperty))\n",
    "    datatype_properties = set(g.subjects(RDF.type, OWL_NS.DatatypeProperty))\n",
    "\n",
    "    # Extract example triples\n",
    "    example_triples = []\n",
    "    for s, p, o in g:\n",
    "        example_triples.append(f\"{s.n3(g.namespace_manager)} {p.n3(g.namespace_manager)} {o.n3(g.namespace_manager)}.\")\n",
    "\n",
    "    # Create a human-readable description\n",
    "    description = []\n",
    "\n",
    "    # Classes\n",
    "    description.append(\"Classes:\")\n",
    "    if classes:\n",
    "        for cls in classes:\n",
    "            label = g.value(cls, RDFS.label) or g.value(cls, Namespace(\"http://www.w3.org/2004/02/skos/core#prefLabel\"))\n",
    "            description.append(f\"- {cls.n3(g.namespace_manager)} ({label if label else 'No label'})\")\n",
    "    else:\n",
    "        description.append(\"- None found\")\n",
    "\n",
    "    # Properties\n",
    "    description.append(\"\\nObject Properties:\")\n",
    "    if object_properties:\n",
    "        for prop in object_properties:\n",
    "            domain = list(g.objects(prop, RDFS.domain))\n",
    "            range_ = list(g.objects(prop, RDFS.range))\n",
    "            domain_str = \", \".join(d.n3(g.namespace_manager) for d in domain) if domain else \"Unknown\"\n",
    "            range_str = \", \".join(r.n3(g.namespace_manager) for r in range_) if range_ else \"Unknown\"\n",
    "            label = g.value(prop, Namespace(\"http://www.w3.org/2004/02/skos/core#prefLabel\"))\n",
    "            description.append(f\"- {prop.n3(g.namespace_manager)} (label: {label if label else 'No label'}, domain: {domain_str}, range: {range_str})\")\n",
    "    else:\n",
    "        description.append(\"- None found\")\n",
    "\n",
    "    description.append(\"\\nDatatype Properties:\")\n",
    "    if datatype_properties:\n",
    "        for prop in datatype_properties:\n",
    "            domain = list(g.objects(prop, RDFS.domain))\n",
    "            range_ = list(g.objects(prop, RDFS.range))\n",
    "            domain_str = \", \".join(d.n3(g.namespace_manager) for d in domain) if domain else \"Unknown\"\n",
    "            range_str = \", \".join(r.n3(g.namespace_manager) for r in range_) if range_ else \"Unknown\"\n",
    "            label = g.value(prop, Namespace(\"http://www.w3.org/2004/02/skos/core#prefLabel\"))\n",
    "            description.append(f\"- {prop.n3(g.namespace_manager)} (label: {label if label else 'No label'}, domain: {domain_str}, range: {range_str})\")\n",
    "    else:\n",
    "        description.append(\"- None found\")\n",
    "\n",
    "    # Example Triples\n",
    "    description.append(\"\\nExample Triples:\")\n",
    "    if example_triples:\n",
    "        description.extend(f\"- {triple}\" for triple in example_triples[:10])  # Limit to 10 triples for brevity\n",
    "    else:\n",
    "        description.append(\"- None found\")\n",
    "\n",
    "    return \"\\n\".join(description)\n"
   ]
  },
  {
   "cell_type": "code",
   "execution_count": 18,
   "metadata": {},
   "outputs": [
    {
     "name": "stdout",
     "output_type": "stream",
     "text": [
      "Classes:\n",
      "- <https://test.org/dsp_groupf1/def#SP_Building_F_LightingSystem> (No label)\n",
      "- <https://test.org/dsp_groupf1/def#Floor1_E> (No label)\n",
      "- <https://test.org/dsp_groupf1/def#SP_Building_A> (No label)\n",
      "- <https://test.org/dsp_groupf1/def#Floor2_A> (No label)\n",
      "- <https://test.org/dsp_groupf1/def#Floor1_F> (No label)\n",
      "- <https://test.org/dsp_groupf1/def#Floor3_B> (No label)\n",
      "- <https://test.org/dsp_groupf1/def#SP904> (No label)\n",
      "- <https://test.org/dsp_groupf1/def#Floor2_E> (No label)\n",
      "- <https://test.org/dsp_groupf1/def#SP_Building_G_LightingSystem> (No label)\n",
      "- <https://test.org/dsp_groupf1/def#Floor2_B> (No label)\n",
      "- <https://test.org/dsp_groupf1/def#SP_Building_B> (No label)\n",
      "- <https://test.org/dsp_groupf1/def#SP_Building_C> (No label)\n",
      "- <https://test.org/dsp_groupf1/def#SP_Building_D> (No label)\n",
      "- <https://test.org/dsp_groupf1/def#SP_Building_E> (No label)\n",
      "- <https://test.org/dsp_groupf1/def#Floor3_A> (No label)\n",
      "- <https://test.org/dsp_groupf1/def#Floor1_B> (No label)\n",
      "- <https://test.org/dsp_groupf1/def#SP_Building_G> (No label)\n",
      "- <https://test.org/dsp_groupf1/def#Object> (No label)\n",
      "- <https://test.org/dsp_groupf1/def#Floor1_A> (No label)\n",
      "- <https://test.org/dsp_groupf1/def#SP_Building_F> (No label)\n",
      "- <https://test.org/dsp_groupf1/def#Floor2_F> (No label)\n",
      "\n",
      "Object Properties:\n",
      "- <https://test.org/dsp_groupf1/def#hasPart> (label: No label, domain: <https://test.org/dsp_groupf1/def#SP_Building_G_LightingSystem>, <https://test.org/dsp_groupf1/def#SP_Building_F_LightingSystem>, range: <https://test.org/dsp_groupf1/def#Lightbulb>)\n",
      "\n",
      "Datatype Properties:\n",
      "- <https://test.org/dsp_groupf1/def#model> (label: No label, domain: <https://test.org/dsp_groupf1/def#Lightbulb>, range: xsd:string)\n",
      "- <https://test.org/dsp_groupf1/def#wattage> (label: No label, domain: <https://test.org/dsp_groupf1/def#Lightbulb>, range: xsd:decimal)\n",
      "\n",
      "Example Triples:\n",
      "- <https://test.org/dsp_groupf1/def#Object> rdf:type owl:Class.\n",
      "- <https://test.org/dsp_groupf1/def#Floor1_B> rdfs:subClassOf <https://test.org/dsp_groupf1/def#SP_Building_B>.\n",
      "- <https://test.org/dsp_groupf1/def#model> skos:prefLabel \"model\".\n",
      "- <https://test.org/dsp_groupf1/def#Floor1_E> skos:prefLabel \"Building E first floor\".\n",
      "- <https://test.org/dsp_groupf1/def#SP_Building_G_LightingSystem> skos:prefLabel \"Lighting System of Building G\".\n",
      "- <https://test.org/dsp_groupf1/def#SP_Building_F_LightingSystem> rdfs:subClassOf <https://test.org/dsp_groupf1/def#SP_Building_F>.\n",
      "- <https://test.org/dsp_groupf1/def#SP_Building_F_LightingSystem> skos:prefLabel \"Lighting System of Building F\".\n",
      "- <https://test.org/dsp_groupf1/def#Lightbulb_building_F> rdf:type <https://test.org/dsp_groupf1/def#Lightbulb>.\n",
      "- <https://test.org/dsp_groupf1/def#SP_Building_G> rdfs:subClassOf <https://test.org/dsp_groupf1/def#SP904>.\n",
      "- <https://test.org/dsp_groupf1/def#Floor1_E> rdfs:subClassOf <https://test.org/dsp_groupf1/def#SP_Building_E>.\n"
     ]
    }
   ],
   "source": [
    "turtle_file = \"../data/to_test.ttl\"  # Replace with the path to your .ttl file\n",
    "ontology_description = extract_ontology_description(turtle_file)\n",
    "print(ontology_description)"
   ]
  },
  {
   "cell_type": "code",
   "execution_count": 23,
   "metadata": {},
   "outputs": [],
   "source": [
    "from openai import OpenAI\n",
    "import os\n",
    "from difflib import get_close_matches\n",
    "import json\n",
    "import re\n",
    "from data import ENTITY_TYPES, RELATIONSHIP_TYPES\n",
    "\n",
    "api_key = os.getenv('OPENAI_API_KEY')\n",
    "organisation = os.getenv('ORGANISATION')\n",
    "client = OpenAI(organization=organisation, api_key=api_key)"
   ]
  },
  {
   "cell_type": "code",
   "execution_count": 28,
   "metadata": {},
   "outputs": [],
   "source": [
    "def construct_sparql_query(user_query):\n",
    "    task = \"\"\"\n",
    "        Task:\n",
    "        You are an assistant trained to generate SPARQL queries based on the given ontology and user prompts. Use the ontology description to understand the structure and generate accurate queries. Assume the ontology is loaded in a database.\n",
    "        only return the sparql query.\n",
    "        \"\"\"\n",
    "    \n",
    "    \n",
    "\n",
    "    prompt = f\"\"\"\n",
    "    Ontology Description:\n",
    "    {ontology_description}\n",
    "\n",
    "    {task}\n",
    "\n",
    "    User Query:\n",
    "    {user_query}\n",
    "    \"\"\"\n",
    "\n",
    "    response = client.chat.completions.create(\n",
    "        model=\"o1-mini\",\n",
    "        messages=[\n",
    "            # {\"role\":\"system\", \"content\": \"You are an expert in ontology-based SPARQL query generation.\"},\n",
    "            {\"role\": \"user\", \"content\": prompt}\n",
    "        ]\n",
    "    )\n",
    "\n",
    "    choice_str = response.choices[0].message.content\n",
    "    \n",
    "    return choice_str"
   ]
  },
  {
   "cell_type": "code",
   "execution_count": 45,
   "metadata": {},
   "outputs": [],
   "source": [
    "user_query = \"find me all buildings with light bulbs\"\n",
    "\n",
    "query = construct_sparql_query(user_query)"
   ]
  },
  {
   "cell_type": "code",
   "execution_count": 52,
   "metadata": {},
   "outputs": [
    {
     "data": {
      "text/plain": [
       "'PREFIX def: <https://test.org/dsp_groupf1/def#>\\nPREFIX rdf: <http://www.w3.org/1999/02/22-rdf-syntax-ns#>\\n\\nSELECT DISTINCT ?building\\nWHERE {\\n  ?building a ?buildingClass .\\n  VALUES ?buildingClass {\\n    def:SP_Building_A\\n    def:SP_Building_B\\n    def:SP_Building_C\\n    def:SP_Building_D\\n    def:SP_Building_E\\n    def:SP_Building_F\\n    def:SP_Building_G\\n  }\\n  ?lightingSystem a ?lightingSystemClass .\\n  VALUES ?lightingSystemClass {\\n    def:SP_Building_F_LightingSystem\\n    def:SP_Building_G_LightingSystem\\n  }\\n  ?lightingSystem def:hasPart ?lightbulb .\\n  ?lightbulb a def:Lightbulb .\\n  # Assuming the lighting system is part of the building\\n  FILTER EXISTS {\\n    ?building def:hasPart ?lightingSystem .\\n  }\\n}\\n'"
      ]
     },
     "execution_count": 52,
     "metadata": {},
     "output_type": "execute_result"
    }
   ],
   "source": [
    "query[10:-3]"
   ]
  },
  {
   "cell_type": "code",
   "execution_count": 54,
   "metadata": {},
   "outputs": [],
   "source": [
    "from rdflib.plugins.sparql import prepareQuery\n",
    "def execute_query(query):\n",
    "    query_mod = query[10:-3]\n",
    "    g = Graph()\n",
    "    g.parse(turtle_file, format=\"turtle\")\n",
    "    q = prepareQuery(query_mod)\n",
    "    results = g.query(q)\n",
    "    for row in results:\n",
    "        print(row)\n",
    "    return results"
   ]
  },
  {
   "cell_type": "code",
   "execution_count": 34,
   "metadata": {},
   "outputs": [
    {
     "name": "stdout",
     "output_type": "stream",
     "text": [
      "(rdflib.term.URIRef('https://test.org/dsp_groupf1/def#SP_Building_F'),)\n",
      "(rdflib.term.URIRef('https://test.org/dsp_groupf1/def#SP_Building_G'),)\n"
     ]
    }
   ],
   "source": [
    "from rdflib.plugins.sparql import prepareQuery\n",
    "\n",
    "\n",
    "\n",
    "# Define the SPARQL query\n",
    "sparql_query = 'PREFIX def: <https://test.org/dsp_groupf1/def#>\\nPREFIX rdf: <http://www.w3.org/1999/02/22-rdf-syntax-ns#>\\nPREFIX rdfs: <http://www.w3.org/2000/01/rdf-schema#>\\n\\nSELECT DISTINCT ?building WHERE {\\n  ?lightingSystem rdfs:subClassOf ?building .\\n  ?lightingSystem def:hasPart ?lightbulb .\\n  ?lightbulb rdf:type def:Lightbulb .\\n}\\n'\n",
    "\n",
    "# Parse the turtle file\n",
    "g = Graph()\n",
    "g.parse(turtle_file, format=\"turtle\")\n",
    "\n",
    "# Prepare and execute the query\n",
    "q = prepareQuery(sparql_query)\n",
    "results = g.query(q)\n",
    "\n",
    "# Print the results\n",
    "for row in results:\n",
    "    print(row)"
   ]
  },
  {
   "cell_type": "code",
   "execution_count": null,
   "metadata": {},
   "outputs": [],
   "source": [
    "from tests.tests import TESTS\n",
    "import pandas as pd"
   ]
  },
  {
   "cell_type": "code",
   "execution_count": 40,
   "metadata": {},
   "outputs": [],
   "source": [
    "tests_df = pd.DataFrame(TESTS)"
   ]
  },
  {
   "cell_type": "code",
   "execution_count": 70,
   "metadata": {},
   "outputs": [
    {
     "data": {
      "text/plain": [
       "[['class', 'label'],\n",
       " ['https://test.org/dsp_groupf1/def#Object', 'Object'],\n",
       " ['https://test.org/dsp_groupf1/def#SP904', 'Science Park 904 campus'],\n",
       " ['https://test.org/dsp_groupf1/def#SP_Building_A', 'Building A'],\n",
       " ['https://test.org/dsp_groupf1/def#SP_Building_B', 'Building B'],\n",
       " ['https://test.org/dsp_groupf1/def#SP_Building_C', 'Building C'],\n",
       " ['https://test.org/dsp_groupf1/def#SP_Building_D', 'Building D'],\n",
       " ['https://test.org/dsp_groupf1/def#SP_Building_E', 'Building E'],\n",
       " ['https://test.org/dsp_groupf1/def#SP_Building_F', 'Building F'],\n",
       " ['https://test.org/dsp_groupf1/def#SP_Building_G', 'Building G']]"
      ]
     },
     "execution_count": 70,
     "metadata": {},
     "output_type": "execute_result"
    }
   ],
   "source": [
    "tests_df.iloc[6]['expected_output']"
   ]
  },
  {
   "cell_type": "code",
   "execution_count": 65,
   "metadata": {},
   "outputs": [
    {
     "name": "stdout",
     "output_type": "stream",
     "text": [
      "Retrieve the model of the lightbulb in the lighting system of Building G.\n",
      "(rdflib.term.Literal('Phillips 123A'),)\n",
      "<rdflib.plugins.sparql.processor.SPARQLResult object at 0x16a5d7ad0>\n",
      "\n",
      "Retrieve the wattage of the lightbulb in the lighting system of Building F.\n",
      "(rdflib.term.Literal('12.5', datatype=rdflib.term.URIRef('http://www.w3.org/2001/XMLSchema#decimal')),)\n",
      "<rdflib.plugins.sparql.processor.SPARQLResult object at 0x16a64b140>\n",
      "\n",
      "Retrieve all lightbulbs and their models.\n",
      "(rdflib.term.URIRef('https://test.org/dsp_groupf1/def#Lightbulb_building_F'), rdflib.term.Literal('IKEA NOT GOOD'))\n",
      "(rdflib.term.URIRef('https://test.org/dsp_groupf1/def#Lightbulb_building_G'), rdflib.term.Literal('Phillips 123A'))\n",
      "<rdflib.plugins.sparql.processor.SPARQLResult object at 0x16a626a50>\n",
      "\n",
      "Retrieve all buildings and their lighting systems.\n",
      "(rdflib.term.URIRef('https://test.org/dsp_groupf1/def#SP_Building_F'), rdflib.term.URIRef('https://test.org/dsp_groupf1/def#SP_Building_F_LightingSystem'))\n",
      "(rdflib.term.URIRef('https://test.org/dsp_groupf1/def#SP_Building_G'), rdflib.term.URIRef('https://test.org/dsp_groupf1/def#SP_Building_G_LightingSystem'))\n",
      "<rdflib.plugins.sparql.processor.SPARQLResult object at 0x16a64a3c0>\n",
      "\n",
      "Retrieve all floors in Building A.\n",
      "(rdflib.term.URIRef('https://test.org/dsp_groupf1/def#Floor1_A'),)\n",
      "(rdflib.term.URIRef('https://test.org/dsp_groupf1/def#Floor2_A'),)\n",
      "(rdflib.term.URIRef('https://test.org/dsp_groupf1/def#Floor3_A'),)\n",
      "<rdflib.plugins.sparql.processor.SPARQLResult object at 0x16a61f200>\n",
      "\n",
      "Retrieve all classes that are subclasses of Science Park 904 campus.\n",
      "(rdflib.term.URIRef('https://test.org/dsp_groupf1/def#SP_Building_A'),)\n",
      "(rdflib.term.URIRef('https://test.org/dsp_groupf1/def#SP_Building_B'),)\n",
      "(rdflib.term.URIRef('https://test.org/dsp_groupf1/def#SP_Building_C'),)\n",
      "(rdflib.term.URIRef('https://test.org/dsp_groupf1/def#SP_Building_D'),)\n",
      "(rdflib.term.URIRef('https://test.org/dsp_groupf1/def#SP_Building_E'),)\n",
      "(rdflib.term.URIRef('https://test.org/dsp_groupf1/def#SP_Building_F'),)\n",
      "(rdflib.term.URIRef('https://test.org/dsp_groupf1/def#SP_Building_G'),)\n",
      "<rdflib.plugins.sparql.processor.SPARQLResult object at 0x16a5fcdd0>\n",
      "\n",
      "Retrieve the prefLabel of all classes.\n",
      "(rdflib.term.URIRef('https://test.org/dsp_groupf1/def#Object'), rdflib.term.Literal('Object', lang='en'))\n",
      "(rdflib.term.URIRef('https://test.org/dsp_groupf1/def#Object'), rdflib.term.Literal('Object', lang='nl'))\n",
      "(rdflib.term.URIRef('https://test.org/dsp_groupf1/def#SP904'), rdflib.term.Literal('Science Park 904 campus'))\n",
      "(rdflib.term.URIRef('https://test.org/dsp_groupf1/def#SP_Building_A'), rdflib.term.Literal('Building A'))\n",
      "(rdflib.term.URIRef('https://test.org/dsp_groupf1/def#Floor1_A'), rdflib.term.Literal('Building A first floor'))\n",
      "(rdflib.term.URIRef('https://test.org/dsp_groupf1/def#Floor2_A'), rdflib.term.Literal('Building A second floor'))\n",
      "(rdflib.term.URIRef('https://test.org/dsp_groupf1/def#Floor3_A'), rdflib.term.Literal('Building A third floor'))\n",
      "(rdflib.term.URIRef('https://test.org/dsp_groupf1/def#SP_Building_B'), rdflib.term.Literal('Building B'))\n",
      "(rdflib.term.URIRef('https://test.org/dsp_groupf1/def#Floor1_B'), rdflib.term.Literal('Building B first floor'))\n",
      "(rdflib.term.URIRef('https://test.org/dsp_groupf1/def#Floor2_B'), rdflib.term.Literal('Building B second floor'))\n",
      "(rdflib.term.URIRef('https://test.org/dsp_groupf1/def#Floor3_B'), rdflib.term.Literal('Building B third floor'))\n",
      "(rdflib.term.URIRef('https://test.org/dsp_groupf1/def#SP_Building_C'), rdflib.term.Literal('Building C'))\n",
      "(rdflib.term.URIRef('https://test.org/dsp_groupf1/def#SP_Building_D'), rdflib.term.Literal('Building D'))\n",
      "(rdflib.term.URIRef('https://test.org/dsp_groupf1/def#SP_Building_E'), rdflib.term.Literal('Building E'))\n",
      "(rdflib.term.URIRef('https://test.org/dsp_groupf1/def#Floor1_E'), rdflib.term.Literal('Building E first floor'))\n",
      "(rdflib.term.URIRef('https://test.org/dsp_groupf1/def#Floor2_E'), rdflib.term.Literal('Building E second floor'))\n",
      "(rdflib.term.URIRef('https://test.org/dsp_groupf1/def#SP_Building_F'), rdflib.term.Literal('Building F'))\n",
      "(rdflib.term.URIRef('https://test.org/dsp_groupf1/def#SP_Building_F_LightingSystem'), rdflib.term.Literal('Lighting System of Building F'))\n",
      "(rdflib.term.URIRef('https://test.org/dsp_groupf1/def#Floor1_F'), rdflib.term.Literal('Building F first floor'))\n",
      "(rdflib.term.URIRef('https://test.org/dsp_groupf1/def#Floor2_F'), rdflib.term.Literal('Building F second floor'))\n",
      "(rdflib.term.URIRef('https://test.org/dsp_groupf1/def#SP_Building_G'), rdflib.term.Literal('Building G'))\n",
      "(rdflib.term.URIRef('https://test.org/dsp_groupf1/def#SP_Building_G_LightingSystem'), rdflib.term.Literal('Lighting System of Building G'))\n",
      "<rdflib.plugins.sparql.processor.SPARQLResult object at 0x16a626840>\n",
      "\n",
      "Retrieve the prefLabel and model of all lightbulbs.\n",
      "<rdflib.plugins.sparql.processor.SPARQLResult object at 0x16a61a420>\n",
      "\n"
     ]
    }
   ],
   "source": [
    "for query in tests_df['query']:\n",
    "    print(query)\n",
    "    query = construct_sparql_query(query)\n",
    "    print(execute_query(query))\n",
    "    print()"
   ]
  },
  {
   "cell_type": "code",
   "execution_count": null,
   "metadata": {},
   "outputs": [],
   "source": []
  }
 ],
 "metadata": {
  "kernelspec": {
   "display_name": "base",
   "language": "python",
   "name": "python3"
  },
  "language_info": {
   "codemirror_mode": {
    "name": "ipython",
    "version": 3
   },
   "file_extension": ".py",
   "mimetype": "text/x-python",
   "name": "python",
   "nbconvert_exporter": "python",
   "pygments_lexer": "ipython3",
   "version": "3.12.7"
  }
 },
 "nbformat": 4,
 "nbformat_minor": 2
}
