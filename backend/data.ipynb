{
 "cells": [
  {
   "cell_type": "code",
   "execution_count": 1,
   "metadata": {},
   "outputs": [],
   "source": [
    "from rdflib import Graph\n",
    "\n",
    "def open_ttl_file(file_path):\n",
    "    try:\n",
    "        # Create an RDF graph\n",
    "        graph = Graph()\n",
    "        \n",
    "        # Parse the .ttl file\n",
    "        graph.parse(file_path, format=\"turtle\")\n",
    "        subjects = []\n",
    "        predicates = []\n",
    "        objects = []\n",
    "        # Output the contents of the graph\n",
    "        for subj, pred, obj in graph:\n",
    "            subjects.append(subj)\n",
    "            predicates.append(pred)\n",
    "            objects.append(obj)\n",
    "        \n",
    "        # Optionally, return the graph object for further processing\n",
    "        return [subjects,predicates,objects]\n",
    "    except Exception as e:\n",
    "        print(f\"An error occurred: {e}\")\n",
    "\n",
    "# Specify the path to your .ttl file\n",
    "ttl_file_path = \"../data/to_test.ttl\"\n",
    "\n",
    "# Call the function to open and read the .ttl file\n",
    "output = open_ttl_file(ttl_file_path)\n"
   ]
  },
  {
   "cell_type": "code",
   "execution_count": 30,
   "metadata": {},
   "outputs": [
    {
     "name": "stdout",
     "output_type": "stream",
     "text": [
      "Output saved to output.json\n"
     ]
    }
   ],
   "source": [
    "import json\n",
    "\n",
    "# Specify the path to save the output as a JSON file\n",
    "output_file_path = \"output.json\"\n",
    "\n",
    "# Convert the output into a dictionary format\n",
    "output_dict = {\n",
    "    \"subjects\": [str(subj) for subj in output[0]],  # Convert RDF terms to strings\n",
    "    \"predicates\": [str(pred) for pred in output[1]],\n",
    "    \"objects\": [str(obj) for obj in output[2]]\n",
    "}\n",
    "\n",
    "# Save the dictionary as a JSON file\n",
    "with open(output_file_path, \"w\") as json_file:\n",
    "    json.dump(output_dict, json_file, indent=4)\n",
    "\n",
    "print(f\"Output saved to {output_file_path}\")"
   ]
  },
  {
   "cell_type": "code",
   "execution_count": 2,
   "metadata": {},
   "outputs": [],
   "source": [
    "from baseline import construct_sparql_query, construct_sparql_query_json\n"
   ]
  },
  {
   "cell_type": "code",
   "execution_count": 50,
   "metadata": {},
   "outputs": [],
   "source": [
    "sparql_query = construct_sparql_query_json('what building has a light bulb')[9:-3]"
   ]
  },
  {
   "cell_type": "code",
   "execution_count": 51,
   "metadata": {},
   "outputs": [
    {
     "data": {
      "text/plain": [
       "'\\nSELECT ?building WHERE {\\n  ?building a <http://www.w3.org/2002/07/owl#Class> ;\\n            <https://test.org/dsp_groupf1/def#hasPart> <https://test.org/dsp_groupf1/def#Lightbulb> .\\n}\\n'"
      ]
     },
     "execution_count": 51,
     "metadata": {},
     "output_type": "execute_result"
    }
   ],
   "source": [
    "sparql_query"
   ]
  },
  {
   "cell_type": "code",
   "execution_count": 52,
   "metadata": {},
   "outputs": [],
   "source": [
    "def run_sparql_query(file_path, sparql_query):\n",
    "    try:\n",
    "        # Create an RDF graph\n",
    "        graph = Graph()\n",
    "        # Parse the .ttl file\n",
    "        graph.parse(file_path, format=\"turtle\")\n",
    "\n",
    "        result = graph.query(sparql_query)\n",
    "        # print(graph.query(sparql_query))\n",
    "        # Optionally, return the graph object for further processing\n",
    "        return result\n",
    "    except Exception as e:\n",
    "        print(f\"An error occurred: {e}\")\n",
    "\n"
   ]
  },
  {
   "cell_type": "code",
   "execution_count": 53,
   "metadata": {},
   "outputs": [],
   "source": [
    "results = run_sparql_query(ttl_file_path,sparql_query=sparql_query)\n",
    "for result in results:\n",
    "    print(result)"
   ]
  },
  {
   "cell_type": "code",
   "execution_count": 21,
   "metadata": {},
   "outputs": [],
   "source": [
    "from rdflib import Graph\n",
    "\n",
    "def open_ttl_file(file_path, sparql_query):\n",
    "    try:\n",
    "        # Create an RDF graph\n",
    "        graph = Graph()\n",
    "        # Parse the .ttl file\n",
    "        graph.parse(file_path, format=\"turtle\")\n",
    "        \n",
    "        # Output the contents of the graph\n",
    "        for subj, pred, obj in graph:\n",
    "            print(f\"Subject: {subj}, Predicate: {pred}, Object: {obj}\")\n",
    "        \n",
    "        # print(graph.query(sparql_query))\n",
    "        # Optionally, return the graph object for further processing\n",
    "        return graph\n",
    "    except Exception as e:\n",
    "        print(f\"An error occurred: {e}\")\n",
    "\n"
   ]
  },
  {
   "cell_type": "code",
   "execution_count": 22,
   "metadata": {},
   "outputs": [
    {
     "name": "stdout",
     "output_type": "stream",
     "text": [
      "Subject: https://test.org/dsp_groupf1/def#model, Predicate: http://www.w3.org/2000/01/rdf-schema#domain, Object: https://test.org/dsp_groupf1/def#Lightbulb\n",
      "Subject: https://test.org/dsp_groupf1/def#hasPart, Predicate: http://www.w3.org/2000/01/rdf-schema#range, Object: https://test.org/dsp_groupf1/def#Lightbulb\n",
      "Subject: https://test.org/dsp_groupf1/def#SP_Building_A, Predicate: http://www.w3.org/2000/01/rdf-schema#subClassOf, Object: https://test.org/dsp_groupf1/def#SP904\n",
      "Subject: https://test.org/dsp_groupf1/def#Floor1_A, Predicate: http://www.w3.org/2004/02/skos/core#prefLabel, Object: Building A first floor\n",
      "Subject: https://test.org/dsp_groupf1/def#SP_Building_C, Predicate: http://www.w3.org/2000/01/rdf-schema#subClassOf, Object: https://test.org/dsp_groupf1/def#SP904\n",
      "Subject: https://test.org/dsp_groupf1/def#Floor1_B, Predicate: http://www.w3.org/2000/01/rdf-schema#subClassOf, Object: https://test.org/dsp_groupf1/def#SP_Building_B\n",
      "Subject: https://test.org/dsp_groupf1/def#SP_Building_F, Predicate: http://www.w3.org/1999/02/22-rdf-syntax-ns#type, Object: http://www.w3.org/2002/07/owl#Class\n",
      "Subject: https://test.org/dsp_groupf1/def#SP_Building_C, Predicate: http://www.w3.org/1999/02/22-rdf-syntax-ns#type, Object: http://www.w3.org/2002/07/owl#Class\n",
      "Subject: https://test.org/dsp_groupf1/def#Floor3_B, Predicate: http://www.w3.org/2000/01/rdf-schema#subClassOf, Object: https://test.org/dsp_groupf1/def#SP_Building_B\n",
      "Subject: https://test.org/dsp_groupf1/def#SP_Building_G, Predicate: http://www.w3.org/2004/02/skos/core#prefLabel, Object: Building G\n",
      "Subject: https://test.org/dsp_groupf1/def#SP_Building_G_LightingSystem, Predicate: https://test.org/dsp_groupf1/def#hasPart, Object: https://test.org/dsp_groupf1/def#Lightbulb_building_G\n",
      "Subject: https://test.org/dsp_groupf1/def#SP904, Predicate: http://www.w3.org/2004/02/skos/core#prefLabel, Object: Science Park 904 campus\n",
      "Subject: https://test.org/dsp_groupf1/def#hasPart, Predicate: http://www.w3.org/2000/01/rdf-schema#domain, Object: https://test.org/dsp_groupf1/def#SP_Building_G_LightingSystem\n",
      "Subject: https://test.org/dsp_groupf1/def#Floor1_E, Predicate: http://www.w3.org/1999/02/22-rdf-syntax-ns#type, Object: http://www.w3.org/2002/07/owl#Class\n",
      "Subject: https://test.org/dsp_groupf1/def#Floor1_B, Predicate: http://www.w3.org/2004/02/skos/core#prefLabel, Object: Building B first floor\n",
      "Subject: https://test.org/dsp_groupf1/def#SP_Building_A, Predicate: http://www.w3.org/1999/02/22-rdf-syntax-ns#type, Object: http://www.w3.org/2002/07/owl#Class\n",
      "Subject: https://test.org/dsp_groupf1/def#Floor2_A, Predicate: http://www.w3.org/1999/02/22-rdf-syntax-ns#type, Object: http://www.w3.org/2002/07/owl#Class\n",
      "Subject: https://test.org/dsp_groupf1/def#Floor2_B, Predicate: http://www.w3.org/2004/02/skos/core#prefLabel, Object: Building B second floor\n",
      "Subject: https://test.org/dsp_groupf1/def#Object, Predicate: http://www.w3.org/2004/02/skos/core#prefLabel, Object: Object\n",
      "Subject: https://test.org/dsp_groupf1/def#wattage, Predicate: http://www.w3.org/1999/02/22-rdf-syntax-ns#type, Object: http://www.w3.org/2002/07/owl#DatatypeProperty\n",
      "Subject: https://test.org/dsp_groupf1/def#Floor2_E, Predicate: http://www.w3.org/2000/01/rdf-schema#subClassOf, Object: https://test.org/dsp_groupf1/def#SP_Building_E\n",
      "Subject: https://test.org/dsp_groupf1/def#Floor2_F, Predicate: http://www.w3.org/2000/01/rdf-schema#subClassOf, Object: https://test.org/dsp_groupf1/def#SP_Building_F\n",
      "Subject: https://test.org/dsp_groupf1/def#Floor3_A, Predicate: http://www.w3.org/1999/02/22-rdf-syntax-ns#type, Object: http://www.w3.org/2002/07/owl#Class\n",
      "Subject: https://test.org/dsp_groupf1/def#SP_Building_E, Predicate: http://www.w3.org/1999/02/22-rdf-syntax-ns#type, Object: http://www.w3.org/2002/07/owl#Class\n",
      "Subject: https://test.org/dsp_groupf1/def#Floor3_A, Predicate: http://www.w3.org/2004/02/skos/core#prefLabel, Object: Building A third floor\n",
      "Subject: https://test.org/dsp_groupf1/def#Floor1_F, Predicate: http://www.w3.org/2000/01/rdf-schema#subClassOf, Object: https://test.org/dsp_groupf1/def#SP_Building_F\n",
      "Subject: https://test.org/dsp_groupf1/def#Floor2_F, Predicate: http://www.w3.org/1999/02/22-rdf-syntax-ns#type, Object: http://www.w3.org/2002/07/owl#Class\n",
      "Subject: https://test.org/dsp_groupf1/def#Floor1_F, Predicate: http://www.w3.org/2004/02/skos/core#prefLabel, Object: Building F first floor\n",
      "Subject: https://test.org/dsp_groupf1/def#Floor1_B, Predicate: http://www.w3.org/1999/02/22-rdf-syntax-ns#type, Object: http://www.w3.org/2002/07/owl#Class\n",
      "Subject: https://test.org/dsp_groupf1/def#model, Predicate: http://www.w3.org/2004/02/skos/core#prefLabel, Object: model\n",
      "Subject: https://test.org/dsp_groupf1/def#Floor1_F, Predicate: http://www.w3.org/1999/02/22-rdf-syntax-ns#type, Object: http://www.w3.org/2002/07/owl#Class\n",
      "Subject: https://test.org/dsp_groupf1/def#Floor1_E, Predicate: http://www.w3.org/2004/02/skos/core#prefLabel, Object: Building E first floor\n",
      "Subject: https://test.org/dsp_groupf1/def#SP_Building_A, Predicate: http://www.w3.org/2004/02/skos/core#prefLabel, Object: Building A\n",
      "Subject: https://test.org/dsp_groupf1/def#SP_Building_B, Predicate: http://www.w3.org/2004/02/skos/core#prefLabel, Object: Building B\n",
      "Subject: https://test.org/dsp_groupf1/def#SP_Building_D, Predicate: http://www.w3.org/1999/02/22-rdf-syntax-ns#type, Object: http://www.w3.org/2002/07/owl#Class\n",
      "Subject: https://test.org/dsp_groupf1/def#Lightbulb_building_G, Predicate: https://test.org/dsp_groupf1/def#model, Object: Phillips 123A\n",
      "Subject: https://test.org/dsp_groupf1/def#hasPart, Predicate: http://www.w3.org/2004/02/skos/core#prefLabel, Object: has part\n",
      "Subject: https://test.org/dsp_groupf1/def#SP_Building_C, Predicate: http://www.w3.org/2004/02/skos/core#prefLabel, Object: Building C\n",
      "Subject: https://test.org/dsp_groupf1/def#SP_Building_G_LightingSystem, Predicate: http://www.w3.org/2004/02/skos/core#prefLabel, Object: Lighting System of Building G\n",
      "Subject: https://test.org/dsp_groupf1/def#SP_Building_G, Predicate: http://www.w3.org/2000/01/rdf-schema#subClassOf, Object: https://test.org/dsp_groupf1/def#SP904\n",
      "Subject: https://test.org/dsp_groupf1/def#SP_Building_G_LightingSystem, Predicate: http://www.w3.org/1999/02/22-rdf-syntax-ns#type, Object: http://www.w3.org/2002/07/owl#Class\n",
      "Subject: https://test.org/dsp_groupf1/def#SP_Building_G, Predicate: http://www.w3.org/1999/02/22-rdf-syntax-ns#type, Object: http://www.w3.org/2002/07/owl#Class\n",
      "Subject: https://test.org/dsp_groupf1/def#Object, Predicate: http://www.w3.org/1999/02/22-rdf-syntax-ns#type, Object: http://www.w3.org/2002/07/owl#Class\n",
      "Subject: https://test.org/dsp_groupf1/def#SP_Building_F_LightingSystem, Predicate: https://test.org/dsp_groupf1/def#hasPart, Object: https://test.org/dsp_groupf1/def#Lightbulb_building_F\n",
      "Subject: https://test.org/dsp_groupf1/def#SP_Building_F, Predicate: http://www.w3.org/2004/02/skos/core#prefLabel, Object: Building F\n",
      "Subject: https://test.org/dsp_groupf1/def#SP_Building_G_LightingSystem, Predicate: http://www.w3.org/2000/01/rdf-schema#subClassOf, Object: https://test.org/dsp_groupf1/def#SP_Building_G\n",
      "Subject: https://test.org/dsp_groupf1/def#SP_Building_F_LightingSystem, Predicate: http://www.w3.org/2000/01/rdf-schema#subClassOf, Object: https://test.org/dsp_groupf1/def#SP_Building_F\n",
      "Subject: https://test.org/dsp_groupf1/def#Lightbulb_building_F, Predicate: https://test.org/dsp_groupf1/def#model, Object: IKEA NOT GOOD\n",
      "Subject: https://test.org/dsp_groupf1/def#model, Predicate: http://www.w3.org/2000/01/rdf-schema#range, Object: http://www.w3.org/2001/XMLSchema#string\n",
      "Subject: https://test.org/dsp_groupf1/def#SP_Building_F_LightingSystem, Predicate: http://www.w3.org/1999/02/22-rdf-syntax-ns#type, Object: http://www.w3.org/2002/07/owl#Class\n",
      "Subject: https://test.org/dsp_groupf1/def#SP_Building_B, Predicate: http://www.w3.org/2000/01/rdf-schema#subClassOf, Object: https://test.org/dsp_groupf1/def#SP904\n",
      "Subject: https://test.org/dsp_groupf1/def#Floor2_A, Predicate: http://www.w3.org/2000/01/rdf-schema#subClassOf, Object: https://test.org/dsp_groupf1/def#SP_Building_A\n",
      "Subject: https://test.org/dsp_groupf1/def#SP_Building_B, Predicate: http://www.w3.org/1999/02/22-rdf-syntax-ns#type, Object: http://www.w3.org/2002/07/owl#Class\n",
      "Subject: https://test.org/dsp_groupf1/def#Lightbulb_building_G, Predicate: https://test.org/dsp_groupf1/def#wattage, Object: 10.5\n",
      "Subject: https://test.org/dsp_groupf1/def#Floor3_A, Predicate: http://www.w3.org/2000/01/rdf-schema#subClassOf, Object: https://test.org/dsp_groupf1/def#SP_Building_A\n",
      "Subject: https://test.org/dsp_groupf1/def#SP_Building_F, Predicate: http://www.w3.org/2000/01/rdf-schema#subClassOf, Object: https://test.org/dsp_groupf1/def#SP904\n",
      "Subject: https://test.org/dsp_groupf1/def#Floor3_B, Predicate: http://www.w3.org/2004/02/skos/core#prefLabel, Object: Building B third floor\n",
      "Subject: https://test.org/dsp_groupf1/def#wattage, Predicate: http://www.w3.org/2004/02/skos/core#prefLabel, Object: wattage\n",
      "Subject: https://test.org/dsp_groupf1/def#Lightbulb_building_F, Predicate: https://test.org/dsp_groupf1/def#wattage, Object: 12.5\n",
      "Subject: https://test.org/dsp_groupf1/def#SP904, Predicate: http://www.w3.org/1999/02/22-rdf-syntax-ns#type, Object: http://www.w3.org/2002/07/owl#Class\n",
      "Subject: https://test.org/dsp_groupf1/def#Floor1_A, Predicate: http://www.w3.org/2000/01/rdf-schema#subClassOf, Object: https://test.org/dsp_groupf1/def#SP_Building_A\n",
      "Subject: https://test.org/dsp_groupf1/def#SP_Building_D, Predicate: http://www.w3.org/2004/02/skos/core#prefLabel, Object: Building D\n",
      "Subject: https://test.org/dsp_groupf1/def#Lightbulb_building_F, Predicate: http://www.w3.org/1999/02/22-rdf-syntax-ns#type, Object: https://test.org/dsp_groupf1/def#Lightbulb\n",
      "Subject: https://test.org/dsp_groupf1/def#Floor3_B, Predicate: http://www.w3.org/1999/02/22-rdf-syntax-ns#type, Object: http://www.w3.org/2002/07/owl#Class\n",
      "Subject: https://test.org/dsp_groupf1/def#SP904, Predicate: http://www.w3.org/2000/01/rdf-schema#subClassOf, Object: https://test.org/dsp_groupf1/def#Object\n",
      "Subject: https://test.org/dsp_groupf1/def#hasPart, Predicate: http://www.w3.org/2000/01/rdf-schema#domain, Object: https://test.org/dsp_groupf1/def#SP_Building_F_LightingSystem\n",
      "Subject: https://test.org/dsp_groupf1/def#Floor2_B, Predicate: http://www.w3.org/2000/01/rdf-schema#subClassOf, Object: https://test.org/dsp_groupf1/def#SP_Building_B\n",
      "Subject: https://test.org/dsp_groupf1/def#wattage, Predicate: http://www.w3.org/2000/01/rdf-schema#range, Object: http://www.w3.org/2001/XMLSchema#decimal\n",
      "Subject: https://test.org/dsp_groupf1/def#Lightbulb_building_G, Predicate: http://www.w3.org/1999/02/22-rdf-syntax-ns#type, Object: https://test.org/dsp_groupf1/def#Lightbulb\n",
      "Subject: https://test.org/dsp_groupf1/def#SP_Building_E, Predicate: http://www.w3.org/2000/01/rdf-schema#subClassOf, Object: https://test.org/dsp_groupf1/def#SP904\n",
      "Subject: https://test.org/dsp_groupf1/def#SP_Building_E, Predicate: http://www.w3.org/2004/02/skos/core#prefLabel, Object: Building E\n",
      "Subject: https://test.org/dsp_groupf1/def#Floor2_B, Predicate: http://www.w3.org/1999/02/22-rdf-syntax-ns#type, Object: http://www.w3.org/2002/07/owl#Class\n",
      "Subject: https://test.org/dsp_groupf1/def#Floor1_E, Predicate: http://www.w3.org/2000/01/rdf-schema#subClassOf, Object: https://test.org/dsp_groupf1/def#SP_Building_E\n",
      "Subject: https://test.org/dsp_groupf1/def#model, Predicate: http://www.w3.org/1999/02/22-rdf-syntax-ns#type, Object: http://www.w3.org/2002/07/owl#DatatypeProperty\n",
      "Subject: https://test.org/dsp_groupf1/def#Floor1_A, Predicate: http://www.w3.org/1999/02/22-rdf-syntax-ns#type, Object: http://www.w3.org/2002/07/owl#Class\n",
      "Subject: https://test.org/dsp_groupf1/def#wattage, Predicate: http://www.w3.org/2000/01/rdf-schema#domain, Object: https://test.org/dsp_groupf1/def#Lightbulb\n",
      "Subject: https://test.org/dsp_groupf1/def#Floor2_A, Predicate: http://www.w3.org/2004/02/skos/core#prefLabel, Object: Building A second floor\n",
      "Subject: https://test.org/dsp_groupf1/def#Floor2_E, Predicate: http://www.w3.org/2004/02/skos/core#prefLabel, Object: Building E second floor\n",
      "Subject: https://test.org/dsp_groupf1/def#Object, Predicate: http://www.w3.org/2004/02/skos/core#prefLabel, Object: Object\n",
      "Subject: https://test.org/dsp_groupf1/def#SP_Building_D, Predicate: http://www.w3.org/2000/01/rdf-schema#subClassOf, Object: https://test.org/dsp_groupf1/def#SP904\n",
      "Subject: https://test.org/dsp_groupf1/def#SP_Building_F_LightingSystem, Predicate: http://www.w3.org/2004/02/skos/core#prefLabel, Object: Lighting System of Building F\n",
      "Subject: https://test.org/dsp_groupf1/def#Floor2_F, Predicate: http://www.w3.org/2004/02/skos/core#prefLabel, Object: Building F second floor\n",
      "Subject: https://test.org/dsp_groupf1/def#Floor2_E, Predicate: http://www.w3.org/1999/02/22-rdf-syntax-ns#type, Object: http://www.w3.org/2002/07/owl#Class\n",
      "Subject: https://test.org/dsp_groupf1/def#hasPart, Predicate: http://www.w3.org/1999/02/22-rdf-syntax-ns#type, Object: http://www.w3.org/2002/07/owl#ObjectProperty\n"
     ]
    },
    {
     "data": {
      "text/plain": [
       "<Graph identifier=Nd2f530379a494dc4b4cd9baae4fb8bf8 (<class 'rdflib.graph.Graph'>)>"
      ]
     },
     "execution_count": 22,
     "metadata": {},
     "output_type": "execute_result"
    }
   ],
   "source": [
    "open_ttl_file(ttl_file_path,sparql_query=sparql_query)"
   ]
  },
  {
   "cell_type": "code",
   "execution_count": null,
   "metadata": {},
   "outputs": [],
   "source": []
  }
 ],
 "metadata": {
  "kernelspec": {
   "display_name": "base",
   "language": "python",
   "name": "python3"
  },
  "language_info": {
   "codemirror_mode": {
    "name": "ipython",
    "version": 3
   },
   "file_extension": ".py",
   "mimetype": "text/x-python",
   "name": "python",
   "nbconvert_exporter": "python",
   "pygments_lexer": "ipython3",
   "version": "3.10.9"
  }
 },
 "nbformat": 4,
 "nbformat_minor": 2
}
