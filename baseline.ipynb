{
 "cells": [
  {
   "cell_type": "code",
   "execution_count": 4,
   "metadata": {},
   "outputs": [],
   "source": [
    "from openai import OpenAI\n",
    "import os\n",
    "from difflib import get_close_matches\n",
    "import json\n",
    "import re\n",
    "from data import ENTITY_TYPES, RELATIONSHIP_TYPES\n",
    "\n",
    "api_key = os.getenv('OPENAI_API_KEY')\n",
    "organisation = os.getenv('ORGANISATION')\n",
    "client = OpenAI(organization=organisation, api_key=api_key)\n",
    "\n",
    "\n",
    "def construct_sparql_query(nl_query):\n",
    "\n",
    "    prompt = f\"\"\"\n",
    "    Create a Sparql query from a natural language query:\n",
    "    \"{nl_query}\"\n",
    "    The Entity and Relationship types are given, coming from the linked database. Semantically match the entities and relationships in the query to the ones in the database also apply any filters necessary. Only output the given query.\n",
    "    - `Here is a list of entities and relationships in the database, so use those to find the closest related ones`: entitites: \"{ENTITY_TYPES}\", relationships: \"{RELATIONSHIP_TYPES}\n",
    "    \"\n",
    "    \"\"\"\n",
    "\n",
    "    response = client.chat.completions.create(\n",
    "        model=\"o1-mini\",\n",
    "        messages=[\n",
    "            {\"role\": \"user\", \"content\": prompt}\n",
    "        ]\n",
    "    )\n",
    "    choice_str = response.choices[0].message.content\n",
    "    \n",
    "    return choice_str\n"
   ]
  },
  {
   "cell_type": "code",
   "execution_count": null,
   "metadata": {},
   "outputs": [],
   "source": [
    "nl_query = \"buildings constructed in new york after 2009\"\n",
    "sparql_query = construct_sparql_query(nl_query)\n",
    "print(\"Generated SPARQL Query:\\n\", sparql_query)"
   ]
  },
  {
   "cell_type": "markdown",
   "metadata": {},
   "source": [
    "# NExt steps"
   ]
  },
  {
   "cell_type": "markdown",
   "metadata": {},
   "source": [
    "1. predicates: relationships\n",
    "2. entities\n",
    "3. filters (get light bulb model manufactured after 2009)"
   ]
  },
  {
   "cell_type": "markdown",
   "metadata": {},
   "source": [
    "Vector embeddings -pretrained model like BERT etc..\n",
    "\n",
    "\"Light bulb manufactured by Philips\" -> \"by\" == \"isSubclassOf\", \"manufacturedBY\" == \"isCHildOf\""
   ]
  }
 ],
 "metadata": {
  "kernelspec": {
   "display_name": "base",
   "language": "python",
   "name": "python3"
  },
  "language_info": {
   "codemirror_mode": {
    "name": "ipython",
    "version": 3
   },
   "file_extension": ".py",
   "mimetype": "text/x-python",
   "name": "python",
   "nbconvert_exporter": "python",
   "pygments_lexer": "ipython3",
   "version": "3.12.7"
  }
 },
 "nbformat": 4,
 "nbformat_minor": 2
}
