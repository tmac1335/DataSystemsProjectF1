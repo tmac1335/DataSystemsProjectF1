{
 "cells": [
  {
   "cell_type": "code",
   "execution_count": null,
   "metadata": {},
   "outputs": [],
   "source": []
  },
  {
   "cell_type": "markdown",
   "metadata": {},
   "source": [
    "**Text-to-SPARQL engine** using a GPT-2 model fine-tuned on synthetic SPARQL queries generated from a given knowledge graph (TTL file). The pipeline includes the following steps:\n",
    "\n",
    "1. **Loading and parsing the TTL file**\n",
    "2. **Generating synthetic NLQ-SPARQL pairs**\n",
    "3. **Applying entity masking**\n",
    "4. **Tokenising input and output data**\n",
    "5. **Preparing a dataset**\n",
    "6. **Fine-tuning GPT-2**\n",
    "7. **Post-processing and evaluating the model using BLEU score**\n"
   ]
  },
  {
   "cell_type": "markdown",
   "metadata": {},
   "source": [
    "# 1: load and explore the TTL file\n",
    "\n",
    "We start by loading the TTL file using the `rdflib` library to understand the structure of the knowledge graph."
   ]
  },
  {
   "cell_type": "code",
   "execution_count": 19,
   "metadata": {},
   "outputs": [
    {
     "name": "stdout",
     "output_type": "stream",
     "text": [
      "Subject: ne591e7fa22564f3db14c2322a70ea98bb137, Predicate: http://www.w3.org/ns/shacl#class, Object: http://hub.laces.tech/semmtech/consultancy/demonstrations/industries/energy/otl/industry-demos---energy-objects-nen2660/956208b8-6780-381c-bf8f-acca108efbbd\n",
      "Subject: http://hub.laces.tech/semmtech/consultancy/demonstrations/industries/energy/otl/industry-demos---energy-objects-nen2660/e16464c7-bb94-35a8-aa4c-94c5b962da01, Predicate: http://hub.laces.tech/semmtech/consultancy/demonstrations/industries/energy/otl/industry-demos---energy-objects-nen2660/shallBeCompliantWith, Object: http://hub.laces.tech/ns/semmtech/private/live/demo-energy/library/test-demo-energy/0c85b485-dacb-3b18-b169-be950a0a58c2\n",
      "Subject: http://hub.laces.tech/semmtech/consultancy/demonstrations/industries/energy/otl/industry-demos---energy-objects-nen2660/5e832a8a-fa56-3b48-b390-65fbff973169, Predicate: http://www.w3.org/ns/shacl#property, Object: ne591e7fa22564f3db14c2322a70ea98bb267\n",
      "Subject: ne591e7fa22564f3db14c2322a70ea98bb251, Predicate: http://www.w3.org/ns/shacl#path, Object: http://hub.laces.tech/semmtech/consultancy/demonstrations/industries/energy/otl/industry-demos---energy-objects-nen2660/e13896cf-a6d6-388e-929b-faa067243cb2\n",
      "Subject: http://hub.laces.tech/semmtech/consultancy/demonstrations/industries/energy/otl/industry-demos---energy-objects-nen2660/e16464c7-bb94-35a8-aa4c-94c5b962da01, Predicate: http://www.w3.org/2004/02/skos/core#prefLabel, Object: Overhead line system \n",
      "Subject: http://hub.laces.tech/semmtech/consultancy/demonstrations/industries/energy/otl/industry-demos---energy-objects-nen2660/69fdf0e0-3579-3467-81b4-a922874a5460, Predicate: http://www.w3.org/2000/01/rdf-schema#subClassOf, Object: http://hub.laces.tech/semmtech/consultancy/demonstrations/industries/energy/otl/industry-demos---energy-objects-nen2660/d1736b83-4847-3904-9889-47bb2c73d23d\n",
      "Subject: ne591e7fa22564f3db14c2322a70ea98bb253, Predicate: http://www.w3.org/ns/shacl#minCount, Object: 0\n",
      "Subject: http://hub.laces.tech/semmtech/consultancy/demonstrations/industries/energy/otl/industry-demos---energy-objects-nen2660/febccfd5-896e-3cd7-ac51-26e2cab8e0fe, Predicate: http://www.w3.org/2000/01/rdf-schema#subClassOf, Object: ne591e7fa22564f3db14c2322a70ea98bb128\n",
      "Subject: ne591e7fa22564f3db14c2322a70ea98bb133, Predicate: http://www.w3.org/ns/shacl#maxCount, Object: 1\n",
      "Subject: ne591e7fa22564f3db14c2322a70ea98bb205, Predicate: http://www.w3.org/ns/shacl#path, Object: http://hub.laces.tech/semmtech/consultancy/demonstrations/industries/energy/otl/industry-demos---energy-objects-nen2660/6e2adfb7-0062-347c-877a-4f00180ea488\n"
     ]
    }
   ],
   "source": [
    "from rdflib import Graph\n",
    "\n",
    "# Load the TTL file\n",
    "g = Graph()\n",
    "g.parse(\"data/Industry_Demos_-_Energy_Objects_NEN2660_2_2024-10-01_1354.ttl\", format=\"ttl\")\n",
    "\n",
    "# Print sample triples to explore the data\n",
    "for s, p, o in list(g)[:10]:\n",
    "    print(f\"Subject: {s}, Predicate: {p}, Object: {o}\")\n"
   ]
  },
  {
   "cell_type": "markdown",
   "metadata": {},
   "source": [
    "# 2: Generate synthetic NLQ-SPARQL pairs\n",
    "\n",
    "We generate natural language questions (NLQs) and corresponding SPARQL queries using the predicates in the TTL file.\n"
   ]
  },
  {
   "cell_type": "code",
   "execution_count": 20,
   "metadata": {},
   "outputs": [
    {
     "name": "stdout",
     "output_type": "stream",
     "text": [
      "[('What is the label of e16464c7-bb94-35a8-aa4c-94c5b962da01?', 'SELECT ?label WHERE { <http://hub.laces.tech/semmtech/consultancy/demonstrations/industries/energy/otl/industry-demos---energy-objects-nen2660/e16464c7-bb94-35a8-aa4c-94c5b962da01> <http://www.w3.org/2004/02/skos/core#prefLabel> ?label }'), ('What type is 48d41e29-7d6b-4bfc-afa2-b839dcf3c62b?', 'SELECT ?type WHERE { <http://hub.laces.tech/semmtech/consultancy/demonstrations/industries/energy/otl/industry-demos---energy-objects-nen2660/48d41e29-7d6b-4bfc-afa2-b839dcf3c62b> <http://www.w3.org/1999/02/22-rdf-syntax-ns#type> ?type }'), ('What type is 2bcd1ad4-542f-3793-a21b-411e8945c0bc?', 'SELECT ?type WHERE { <http://hub.laces.tech/semmtech/consultancy/demonstrations/industries/energy/otl/industry-demos---energy-objects-nen2660/2bcd1ad4-542f-3793-a21b-411e8945c0bc> <http://www.w3.org/1999/02/22-rdf-syntax-ns#type> ?type }'), ('What is the label of d5580707-98e0-3a9b-a36e-345b4c55f6a2?', 'SELECT ?label WHERE { <http://hub.laces.tech/semmtech/consultancy/demonstrations/industries/energy/otl/industry-demos---energy-objects-nen2660/d5580707-98e0-3a9b-a36e-345b4c55f6a2> <http://www.w3.org/2004/02/skos/core#prefLabel> ?label }'), ('What type is 5d3522da-abfa-3c75-94f1-f473670cfd50-Shape?', 'SELECT ?type WHERE { <http://hub.laces.tech/semmtech/consultancy/demonstrations/industries/energy/otl/industry-demos---energy-objects-nen2660/5d3522da-abfa-3c75-94f1-f473670cfd50-Shape> <http://www.w3.org/1999/02/22-rdf-syntax-ns#type> ?type }')]\n"
     ]
    }
   ],
   "source": [
    "import rdflib\n",
    "\n",
    "# Function to generate synthetic NLQ-SPARQL pairs\n",
    "def generate_synthetic_data(graph, num_samples=100):\n",
    "    nlq_sparql_pairs = []\n",
    "\n",
    "    for s, p, o in list(graph)[:num_samples]:\n",
    "        subject_label = s.split(\"/\")[-1] if isinstance(s, rdflib.URIRef) else \"Entity\"\n",
    "        predicate_label = p.split(\"#\")[-1]\n",
    "\n",
    "        if \"prefLabel\" in predicate_label:\n",
    "            nlq = f\"What is the label of {subject_label}?\"\n",
    "            sparql = f\"SELECT ?label WHERE {{ <{s}> <{p}> ?label }}\"\n",
    "        elif \"type\" in predicate_label:\n",
    "            nlq = f\"What type is {subject_label}?\"\n",
    "            sparql = f\"SELECT ?type WHERE {{ <{s}> <{p}> ?type }}\"\n",
    "        elif \"hasPart\" in predicate_label:\n",
    "            nlq = f\"What parts does {subject_label} have?\"\n",
    "            sparql = f\"SELECT ?part WHERE {{ <{s}> <{p}> ?part }}\"\n",
    "        else:\n",
    "            continue\n",
    "\n",
    "        nlq_sparql_pairs.append((nlq, sparql))\n",
    "\n",
    "    return nlq_sparql_pairs\n",
    "\n",
    "# Generate synthetic data\n",
    "synthetic_data = generate_synthetic_data(g)\n",
    "print(synthetic_data[:5])\n"
   ]
  },
  {
   "cell_type": "code",
   "execution_count": 3,
   "metadata": {},
   "outputs": [
    {
     "data": {
      "text/plain": [
       "[('What is the label of e16464c7-bb94-35a8-aa4c-94c5b962da01?',\n",
       "  'SELECT ?label WHERE { <http://hub.laces.tech/semmtech/consultancy/demonstrations/industries/energy/otl/industry-demos---energy-objects-nen2660/e16464c7-bb94-35a8-aa4c-94c5b962da01> <http://www.w3.org/2004/02/skos/core#prefLabel> ?label }'),\n",
       " ('What type is Entity?',\n",
       "  'SELECT ?type WHERE { <n6fa24a935db34e198678039900cfac3bb171> <http://www.w3.org/ns/shacl#datatype> ?type }'),\n",
       " ('What type is 48d41e29-7d6b-4bfc-afa2-b839dcf3c62b?',\n",
       "  'SELECT ?type WHERE { <http://hub.laces.tech/semmtech/consultancy/demonstrations/industries/energy/otl/industry-demos---energy-objects-nen2660/48d41e29-7d6b-4bfc-afa2-b839dcf3c62b> <http://www.w3.org/1999/02/22-rdf-syntax-ns#type> ?type }'),\n",
       " ('What type is 2bcd1ad4-542f-3793-a21b-411e8945c0bc?',\n",
       "  'SELECT ?type WHERE { <http://hub.laces.tech/semmtech/consultancy/demonstrations/industries/energy/otl/industry-demos---energy-objects-nen2660/2bcd1ad4-542f-3793-a21b-411e8945c0bc> <http://www.w3.org/1999/02/22-rdf-syntax-ns#type> ?type }'),\n",
       " ('What is the label of d5580707-98e0-3a9b-a36e-345b4c55f6a2?',\n",
       "  'SELECT ?label WHERE { <http://hub.laces.tech/semmtech/consultancy/demonstrations/industries/energy/otl/industry-demos---energy-objects-nen2660/d5580707-98e0-3a9b-a36e-345b4c55f6a2> <http://www.w3.org/2004/02/skos/core#prefLabel> ?label }'),\n",
       " ('What is the label of c98023aa-e552-3b9e-93eb-283d4a6622ac?',\n",
       "  'SELECT ?label WHERE { <http://hub.laces.tech/semmtech/consultancy/demonstrations/industries/energy/otl/industry-demos---energy-objects-nen2660/c98023aa-e552-3b9e-93eb-283d4a6622ac> <http://www.w3.org/2004/02/skos/core#prefLabel> ?label }'),\n",
       " ('What type is 5d3522da-abfa-3c75-94f1-f473670cfd50-Shape?',\n",
       "  'SELECT ?type WHERE { <http://hub.laces.tech/semmtech/consultancy/demonstrations/industries/energy/otl/industry-demos---energy-objects-nen2660/5d3522da-abfa-3c75-94f1-f473670cfd50-Shape> <http://www.w3.org/1999/02/22-rdf-syntax-ns#type> ?type }'),\n",
       " ('What is the label of 2bb50161-908d-3ebc-bfc8-99c68f447554?',\n",
       "  'SELECT ?label WHERE { <http://hub.laces.tech/semmtech/consultancy/demonstrations/industries/energy/otl/industry-demos---energy-objects-nen2660/2bb50161-908d-3ebc-bfc8-99c68f447554> <http://www.w3.org/2004/02/skos/core#prefLabel> ?label }'),\n",
       " ('What is the label of ?',\n",
       "  'SELECT ?label WHERE { <http://hub.laces.tech/semmtech/consultancy/demonstrations/industries/energy/otl/industry-demos---energy-objects-nen2660/> <http://www.w3.org/2004/02/skos/core#prefLabel> ?label }'),\n",
       " ('What type is e13896cf-a6d6-388e-929b-faa067243cb2?',\n",
       "  'SELECT ?type WHERE { <http://hub.laces.tech/semmtech/consultancy/demonstrations/industries/energy/otl/industry-demos---energy-objects-nen2660/e13896cf-a6d6-388e-929b-faa067243cb2> <http://www.w3.org/1999/02/22-rdf-syntax-ns#type> ?type }'),\n",
       " ('What type is e16464c7-bb94-35a8-aa4c-94c5b962da01-Shape?',\n",
       "  'SELECT ?type WHERE { <http://hub.laces.tech/semmtech/consultancy/demonstrations/industries/energy/otl/industry-demos---energy-objects-nen2660/e16464c7-bb94-35a8-aa4c-94c5b962da01-Shape> <http://www.w3.org/1999/02/22-rdf-syntax-ns#type> ?type }'),\n",
       " ('What type is 18ca12eb-edd0-3a5e-bd02-12a97f4a6539-Shape?',\n",
       "  'SELECT ?type WHERE { <http://hub.laces.tech/semmtech/consultancy/demonstrations/industries/energy/otl/industry-demos---energy-objects-nen2660/18ca12eb-edd0-3a5e-bd02-12a97f4a6539-Shape> <http://www.w3.org/1999/02/22-rdf-syntax-ns#type> ?type }'),\n",
       " ('What is the label of 24e1bdc2-f75e-3720-83c1-0ee55175dbab?',\n",
       "  'SELECT ?label WHERE { <http://hub.laces.tech/semmtech/consultancy/demonstrations/industries/energy/otl/industry-demos---energy-objects-nen2660/24e1bdc2-f75e-3720-83c1-0ee55175dbab> <http://www.w3.org/2004/02/skos/core#prefLabel> ?label }'),\n",
       " ('What type is Entity?',\n",
       "  'SELECT ?type WHERE { <n6fa24a935db34e198678039900cfac3bb46> <http://www.w3.org/1999/02/22-rdf-syntax-ns#type> ?type }'),\n",
       " ('What type is Risk?',\n",
       "  'SELECT ?type WHERE { <http://hub.laces.tech/semmtech/consultancy/demonstrations/industries/energy/otl/industry-demos---energy-objects-nen2660/Risk> <http://www.w3.org/1999/02/22-rdf-syntax-ns#type> ?type }'),\n",
       " ('What type is a8fcb8aa-d4e7-3c8b-8693-8914ad18b75f?',\n",
       "  'SELECT ?type WHERE { <http://hub.laces.tech/semmtech/consultancy/demonstrations/industries/energy/otl/industry-demos---energy-objects-nen2660/a8fcb8aa-d4e7-3c8b-8693-8914ad18b75f> <http://www.w3.org/1999/02/22-rdf-syntax-ns#type> ?type }'),\n",
       " ('What type is b6544b7c-8e23-35a1-9c7b-d57b8582cc1c?',\n",
       "  'SELECT ?type WHERE { <http://hub.laces.tech/semmtech/consultancy/demonstrations/industries/energy/otl/industry-demos---energy-objects-nen2660/b6544b7c-8e23-35a1-9c7b-d57b8582cc1c> <http://www.w3.org/1999/02/22-rdf-syntax-ns#type> ?type }'),\n",
       " ('What type is Entity?',\n",
       "  'SELECT ?type WHERE { <n6fa24a935db34e198678039900cfac3bb13> <http://www.w3.org/1999/02/22-rdf-syntax-ns#type> ?type }'),\n",
       " ('What type is 58e20386-cd19-341b-b7ee-a38636185248?',\n",
       "  'SELECT ?type WHERE { <http://hub.laces.tech/semmtech/consultancy/demonstrations/industries/energy/otl/industry-demos---energy-objects-nen2660/58e20386-cd19-341b-b7ee-a38636185248> <http://www.w3.org/1999/02/22-rdf-syntax-ns#type> ?type }'),\n",
       " ('What type is Entity?',\n",
       "  'SELECT ?type WHERE { <n6fa24a935db34e198678039900cfac3bb141> <http://www.w3.org/1999/02/22-rdf-syntax-ns#type> ?type }'),\n",
       " ('What type is 235adcd8-04f0-309f-90b1-32210135cc20?',\n",
       "  'SELECT ?type WHERE { <http://hub.laces.tech/semmtech/consultancy/demonstrations/industries/energy/otl/industry-demos---energy-objects-nen2660/235adcd8-04f0-309f-90b1-32210135cc20> <http://www.w3.org/1999/02/22-rdf-syntax-ns#type> ?type }'),\n",
       " ('What type is e00d5b6b-8ad7-36e5-aa86-f542920bc914?',\n",
       "  'SELECT ?type WHERE { <http://hub.laces.tech/semmtech/consultancy/demonstrations/industries/energy/otl/industry-demos---energy-objects-nen2660/e00d5b6b-8ad7-36e5-aa86-f542920bc914> <http://www.w3.org/1999/02/22-rdf-syntax-ns#type> ?type }'),\n",
       " ('What type is 4319a4b9-8eac-3c53-a78d-a335a8e831d4?',\n",
       "  'SELECT ?type WHERE { <http://hub.laces.tech/semmtech/consultancy/demonstrations/industries/energy/otl/industry-demos---energy-objects-nen2660/4319a4b9-8eac-3c53-a78d-a335a8e831d4> <http://www.w3.org/1999/02/22-rdf-syntax-ns#type> ?type }'),\n",
       " ('What type is Entity?',\n",
       "  'SELECT ?type WHERE { <n6fa24a935db34e198678039900cfac3bb88> <http://www.w3.org/1999/02/22-rdf-syntax-ns#type> ?type }'),\n",
       " ('What type is e523faa1-053b-37cd-86e7-965e43f26791?',\n",
       "  'SELECT ?type WHERE { <http://hub.laces.tech/semmtech/consultancy/demonstrations/industries/energy/otl/industry-demos---energy-objects-nen2660/e523faa1-053b-37cd-86e7-965e43f26791> <http://www.w3.org/1999/02/22-rdf-syntax-ns#type> ?type }'),\n",
       " ('What is the label of def#Matter?',\n",
       "  'SELECT ?label WHERE { <https://w3id.org/nen2660/def#Matter> <http://www.w3.org/2004/02/skos/core#prefLabel> ?label }'),\n",
       " ('What type is Entity?',\n",
       "  'SELECT ?type WHERE { <n6fa24a935db34e198678039900cfac3bb202> <http://www.w3.org/ns/shacl#datatype> ?type }'),\n",
       " ('What type is def#Matter?',\n",
       "  'SELECT ?type WHERE { <https://w3id.org/nen2660/def#Matter> <http://www.w3.org/1999/02/22-rdf-syntax-ns#type> ?type }'),\n",
       " ('What type is 4defd32e-85ec-371e-acd2-1077676d3def?',\n",
       "  'SELECT ?type WHERE { <http://hub.laces.tech/semmtech/consultancy/demonstrations/industries/energy/otl/industry-demos---energy-objects-nen2660/4defd32e-85ec-371e-acd2-1077676d3def> <http://www.w3.org/1999/02/22-rdf-syntax-ns#type> ?type }'),\n",
       " ('What type is 10e4f267-daba-3265-98a9-2f193696cb62?',\n",
       "  'SELECT ?type WHERE { <http://hub.laces.tech/semmtech/consultancy/demonstrations/industries/energy/otl/industry-demos---energy-objects-nen2660/10e4f267-daba-3265-98a9-2f193696cb62> <http://www.w3.org/1999/02/22-rdf-syntax-ns#type> ?type }')]"
      ]
     },
     "execution_count": 3,
     "metadata": {},
     "output_type": "execute_result"
    }
   ],
   "source": [
    "synthetic_data"
   ]
  },
  {
   "cell_type": "markdown",
   "metadata": {},
   "source": [
    "# 3: mask entities in NLQs\n",
    "\n",
    "To generalise the model, we mask specific entities in the NLQs with placeholder tokens like `[ENT1]`.\n"
   ]
  },
  {
   "cell_type": "code",
   "execution_count": 21,
   "metadata": {},
   "outputs": [
    {
     "name": "stdout",
     "output_type": "stream",
     "text": [
      "What is the label of [ENT1]?\n"
     ]
    }
   ],
   "source": [
    "import re\n",
    "\n",
    "# Function to mask entities in NLQs\n",
    "def mask_entities(nlq, entities):\n",
    "    masked_nlq = nlq\n",
    "    for i, entity in enumerate(entities):\n",
    "        masked_nlq = re.sub(entity, f\"[ENT{i+1}]\", masked_nlq)\n",
    "    return masked_nlq\n",
    "\n",
    "# Example usage\n",
    "entities = [\"Agent\", \"Convertor\"]\n",
    "nlq = \"What is the label of Agent?\"\n",
    "masked_nlq = mask_entities(nlq, entities)\n",
    "print(masked_nlq)\n"
   ]
  },
  {
   "cell_type": "markdown",
   "metadata": {},
   "source": [
    "# 4: Tokenise Data for Training\n",
    "\n",
    "We tokenise both the input NLQs and output SPARQL queries using Hugging Face’s `tokenizer`."
   ]
  },
  {
   "cell_type": "code",
   "execution_count": 22,
   "metadata": {},
   "outputs": [
    {
     "name": "stdout",
     "output_type": "stream",
     "text": [
      "[{'input_ids': [2061, 318, 262, 6167, 286, 304, 23237, 2414, 66, 22, 12, 11848, 5824, 12, 2327, 64, 23, 12, 7252, 19, 66, 12, 5824, 66, 20, 65, 4846, 17, 6814, 486, 30, 50256, 50256, 50256, 50256, 50256, 50256, 50256, 50256, 50256, 50256, 50256, 50256, 50256, 50256, 50256, 50256, 50256, 50256, 50256, 50256, 50256, 50256, 50256, 50256, 50256, 50256, 50256, 50256, 50256, 50256, 50256, 50256, 50256, 50256, 50256, 50256, 50256, 50256, 50256, 50256, 50256, 50256, 50256, 50256, 50256, 50256, 50256, 50256, 50256, 50256, 50256, 50256, 50256, 50256, 50256, 50256, 50256, 50256, 50256, 50256, 50256, 50256, 50256, 50256, 50256, 50256, 50256, 50256, 50256, 50256, 50256, 50256, 50256, 50256, 50256, 50256, 50256, 50256, 50256, 50256, 50256, 50256, 50256, 50256, 50256, 50256, 50256, 50256, 50256, 50256, 50256, 50256, 50256, 50256, 50256, 50256, 50256], 'attention_mask': [1, 1, 1, 1, 1, 1, 1, 1, 1, 1, 1, 1, 1, 1, 1, 1, 1, 1, 1, 1, 1, 1, 1, 1, 1, 1, 1, 1, 1, 1, 1, 0, 0, 0, 0, 0, 0, 0, 0, 0, 0, 0, 0, 0, 0, 0, 0, 0, 0, 0, 0, 0, 0, 0, 0, 0, 0, 0, 0, 0, 0, 0, 0, 0, 0, 0, 0, 0, 0, 0, 0, 0, 0, 0, 0, 0, 0, 0, 0, 0, 0, 0, 0, 0, 0, 0, 0, 0, 0, 0, 0, 0, 0, 0, 0, 0, 0, 0, 0, 0, 0, 0, 0, 0, 0, 0, 0, 0, 0, 0, 0, 0, 0, 0, 0, 0, 0, 0, 0, 0, 0, 0, 0, 0, 0, 0, 0, 0], 'labels': [46506, 5633, 18242, 33411, 1391, 1279, 4023, 1378, 40140, 13, 75, 2114, 13, 13670, 14, 325, 3020, 13670, 14, 5936, 586, 3883, 14, 26567, 2536, 602, 14, 23213, 1678, 14, 22554, 14, 313, 75, 14, 23213, 563, 12, 9536, 418, 6329, 22554, 12, 48205, 12, 38572, 2075, 1899, 14, 68, 23237, 2414, 66, 22, 12, 11848, 5824, 12, 2327, 64, 23, 12, 7252, 19, 66, 12, 5824, 66, 20, 65, 4846, 17, 6814, 486, 29, 1279, 4023, 1378, 2503, 13, 86, 18, 13, 2398, 14, 15724, 14, 2999, 14, 8135, 418, 14, 7295, 2, 3866, 69, 33986, 29, 5633, 18242, 1782, 50256, 50256, 50256, 50256, 50256, 50256, 50256, 50256, 50256, 50256, 50256, 50256, 50256, 50256, 50256, 50256, 50256, 50256, 50256, 50256, 50256, 50256, 50256, 50256, 50256, 50256, 50256]}, {'input_ids': [2061, 2099, 318, 4764, 67, 3901, 68, 1959, 12, 22, 67, 21, 65, 12, 19, 65, 16072, 12, 28485, 17, 12, 65, 23, 2670, 67, 12993, 18, 66, 5237, 65, 30, 50256, 50256, 50256, 50256, 50256, 50256, 50256, 50256, 50256, 50256, 50256, 50256, 50256, 50256, 50256, 50256, 50256, 50256, 50256, 50256, 50256, 50256, 50256, 50256, 50256, 50256, 50256, 50256, 50256, 50256, 50256, 50256, 50256, 50256, 50256, 50256, 50256, 50256, 50256, 50256, 50256, 50256, 50256, 50256, 50256, 50256, 50256, 50256, 50256, 50256, 50256, 50256, 50256, 50256, 50256, 50256, 50256, 50256, 50256, 50256, 50256, 50256, 50256, 50256, 50256, 50256, 50256, 50256, 50256, 50256, 50256, 50256, 50256, 50256, 50256, 50256, 50256, 50256, 50256, 50256, 50256, 50256, 50256, 50256, 50256, 50256, 50256, 50256, 50256, 50256, 50256, 50256, 50256, 50256, 50256, 50256, 50256], 'attention_mask': [1, 1, 1, 1, 1, 1, 1, 1, 1, 1, 1, 1, 1, 1, 1, 1, 1, 1, 1, 1, 1, 1, 1, 1, 1, 1, 1, 1, 1, 1, 1, 0, 0, 0, 0, 0, 0, 0, 0, 0, 0, 0, 0, 0, 0, 0, 0, 0, 0, 0, 0, 0, 0, 0, 0, 0, 0, 0, 0, 0, 0, 0, 0, 0, 0, 0, 0, 0, 0, 0, 0, 0, 0, 0, 0, 0, 0, 0, 0, 0, 0, 0, 0, 0, 0, 0, 0, 0, 0, 0, 0, 0, 0, 0, 0, 0, 0, 0, 0, 0, 0, 0, 0, 0, 0, 0, 0, 0, 0, 0, 0, 0, 0, 0, 0, 0, 0, 0, 0, 0, 0, 0, 0, 0, 0, 0, 0, 0], 'labels': [46506, 5633, 4906, 33411, 1391, 1279, 4023, 1378, 40140, 13, 75, 2114, 13, 13670, 14, 325, 3020, 13670, 14, 5936, 586, 3883, 14, 26567, 2536, 602, 14, 23213, 1678, 14, 22554, 14, 313, 75, 14, 23213, 563, 12, 9536, 418, 6329, 22554, 12, 48205, 12, 38572, 2075, 1899, 14, 2780, 67, 3901, 68, 1959, 12, 22, 67, 21, 65, 12, 19, 65, 16072, 12, 28485, 17, 12, 65, 23, 2670, 67, 12993, 18, 66, 5237, 65, 29, 1279, 4023, 1378, 2503, 13, 86, 18, 13, 2398, 14, 18946, 14, 2999, 14, 1828, 12, 4372, 69, 12, 1837, 41641, 12, 5907, 2, 4906, 29, 5633, 4906, 1782, 50256, 50256, 50256, 50256, 50256, 50256, 50256, 50256, 50256, 50256, 50256, 50256, 50256, 50256, 50256, 50256, 50256, 50256, 50256, 50256, 50256, 50256]}]\n"
     ]
    }
   ],
   "source": [
    "from transformers import GPT2Tokenizer\n",
    "\n",
    "# Load the GPT-2 tokenizer\n",
    "tokenizer = GPT2Tokenizer.from_pretrained(\"gpt2\")\n",
    "\n",
    "# Add a padding token if it doesn't exist\n",
    "if tokenizer.pad_token is None:\n",
    "    tokenizer.add_special_tokens({'pad_token': tokenizer.eos_token})\n",
    "\n",
    "# Tokenize function for both input (NLQ) and output (SPARQL)\n",
    "def tokenize_function(example):\n",
    "    input_encoding = tokenizer(\n",
    "        example[\"input_text\"],\n",
    "        truncation=True,\n",
    "        padding=\"max_length\",\n",
    "        max_length=128\n",
    "    )\n",
    "    output_encoding = tokenizer(\n",
    "        example[\"output_text\"],\n",
    "        truncation=True,\n",
    "        padding=\"max_length\",\n",
    "        max_length=128\n",
    "    )\n",
    "\n",
    "    return {\n",
    "        \"input_ids\": input_encoding[\"input_ids\"],\n",
    "        \"attention_mask\": input_encoding[\"attention_mask\"],\n",
    "        \"labels\": output_encoding[\"input_ids\"],\n",
    "    }\n",
    "\n",
    "# Prepare the dataset\n",
    "train_data = [{\"input_text\": nlq, \"output_text\": sparql} for nlq, sparql in synthetic_data]\n",
    "tokenized_data = [tokenize_function(data) for data in train_data]\n",
    "\n",
    "# Verify tokenized data\n",
    "print(tokenized_data[:2])\n"
   ]
  },
  {
   "cell_type": "markdown",
   "metadata": {},
   "source": [
    "# 5: Convert to Hugging Face Dataset\n",
    "\n",
    "We convert the tokenized data to a dataset using Hugging Face’s `datasets` library"
   ]
  },
  {
   "cell_type": "code",
   "execution_count": 23,
   "metadata": {},
   "outputs": [
    {
     "name": "stdout",
     "output_type": "stream",
     "text": [
      "{'input_ids': [2061, 318, 262, 6167, 286, 304, 23237, 2414, 66, 22, 12, 11848, 5824, 12, 2327, 64, 23, 12, 7252, 19, 66, 12, 5824, 66, 20, 65, 4846, 17, 6814, 486, 30, 50256, 50256, 50256, 50256, 50256, 50256, 50256, 50256, 50256, 50256, 50256, 50256, 50256, 50256, 50256, 50256, 50256, 50256, 50256, 50256, 50256, 50256, 50256, 50256, 50256, 50256, 50256, 50256, 50256, 50256, 50256, 50256, 50256, 50256, 50256, 50256, 50256, 50256, 50256, 50256, 50256, 50256, 50256, 50256, 50256, 50256, 50256, 50256, 50256, 50256, 50256, 50256, 50256, 50256, 50256, 50256, 50256, 50256, 50256, 50256, 50256, 50256, 50256, 50256, 50256, 50256, 50256, 50256, 50256, 50256, 50256, 50256, 50256, 50256, 50256, 50256, 50256, 50256, 50256, 50256, 50256, 50256, 50256, 50256, 50256, 50256, 50256, 50256, 50256, 50256, 50256, 50256, 50256, 50256, 50256, 50256, 50256], 'attention_mask': [1, 1, 1, 1, 1, 1, 1, 1, 1, 1, 1, 1, 1, 1, 1, 1, 1, 1, 1, 1, 1, 1, 1, 1, 1, 1, 1, 1, 1, 1, 1, 0, 0, 0, 0, 0, 0, 0, 0, 0, 0, 0, 0, 0, 0, 0, 0, 0, 0, 0, 0, 0, 0, 0, 0, 0, 0, 0, 0, 0, 0, 0, 0, 0, 0, 0, 0, 0, 0, 0, 0, 0, 0, 0, 0, 0, 0, 0, 0, 0, 0, 0, 0, 0, 0, 0, 0, 0, 0, 0, 0, 0, 0, 0, 0, 0, 0, 0, 0, 0, 0, 0, 0, 0, 0, 0, 0, 0, 0, 0, 0, 0, 0, 0, 0, 0, 0, 0, 0, 0, 0, 0, 0, 0, 0, 0, 0, 0], 'labels': [46506, 5633, 18242, 33411, 1391, 1279, 4023, 1378, 40140, 13, 75, 2114, 13, 13670, 14, 325, 3020, 13670, 14, 5936, 586, 3883, 14, 26567, 2536, 602, 14, 23213, 1678, 14, 22554, 14, 313, 75, 14, 23213, 563, 12, 9536, 418, 6329, 22554, 12, 48205, 12, 38572, 2075, 1899, 14, 68, 23237, 2414, 66, 22, 12, 11848, 5824, 12, 2327, 64, 23, 12, 7252, 19, 66, 12, 5824, 66, 20, 65, 4846, 17, 6814, 486, 29, 1279, 4023, 1378, 2503, 13, 86, 18, 13, 2398, 14, 15724, 14, 2999, 14, 8135, 418, 14, 7295, 2, 3866, 69, 33986, 29, 5633, 18242, 1782, 50256, 50256, 50256, 50256, 50256, 50256, 50256, 50256, 50256, 50256, 50256, 50256, 50256, 50256, 50256, 50256, 50256, 50256, 50256, 50256, 50256, 50256, 50256, 50256, 50256, 50256, 50256]}\n"
     ]
    }
   ],
   "source": [
    "from datasets import Dataset\n",
    "\n",
    "# Convert to Hugging Face Dataset\n",
    "hf_dataset = Dataset.from_list(tokenized_data)\n",
    "\n",
    "# Verify the structure\n",
    "print(hf_dataset[0])\n"
   ]
  },
  {
   "cell_type": "markdown",
   "metadata": {},
   "source": [
    "# 6: fine-tune a GPT-2 model\n",
    "\n",
    "We fine-tune a pre-trained GPT-2 model using Hugging Face’s `Trainer` class"
   ]
  },
  {
   "cell_type": "code",
   "execution_count": 24,
   "metadata": {},
   "outputs": [
    {
     "name": "stderr",
     "output_type": "stream",
     "text": [
      "/var/folders/w7/92py52m51mg8jn061l26gtvr0000gn/T/ipykernel_80806/2552958591.py:22: FutureWarning: `tokenizer` is deprecated and will be removed in version 5.0.0 for `Trainer.__init__`. Use `processing_class` instead.\n",
      "  trainer = Trainer(\n"
     ]
    },
    {
     "data": {
      "text/html": [
       "\n",
       "    <div>\n",
       "      \n",
       "      <progress value='21' max='21' style='width:300px; height:20px; vertical-align: middle;'></progress>\n",
       "      [21/21 00:18, Epoch 3/3]\n",
       "    </div>\n",
       "    <table border=\"1\" class=\"dataframe\">\n",
       "  <thead>\n",
       " <tr style=\"text-align: left;\">\n",
       "      <th>Step</th>\n",
       "      <th>Training Loss</th>\n",
       "    </tr>\n",
       "  </thead>\n",
       "  <tbody>\n",
       "  </tbody>\n",
       "</table><p>"
      ],
      "text/plain": [
       "<IPython.core.display.HTML object>"
      ]
     },
     "metadata": {},
     "output_type": "display_data"
    },
    {
     "data": {
      "text/plain": [
       "TrainOutput(global_step=21, training_loss=6.1940663655598955, metrics={'train_runtime': 23.4025, 'train_samples_per_second': 3.589, 'train_steps_per_second': 0.897, 'total_flos': 5487132672000.0, 'train_loss': 6.1940663655598955, 'epoch': 3.0})"
      ]
     },
     "execution_count": 24,
     "metadata": {},
     "output_type": "execute_result"
    }
   ],
   "source": [
    "from transformers import GPT2LMHeadModel, Trainer, TrainingArguments\n",
    "from transformers import DataCollatorWithPadding\n",
    "\n",
    "# Load the model\n",
    "model = GPT2LMHeadModel.from_pretrained(\"gpt2\")\n",
    "\n",
    "# Prepare data collator\n",
    "data_collator = DataCollatorWithPadding(tokenizer=tokenizer, return_tensors=\"pt\")\n",
    "\n",
    "# Training arguments\n",
    "training_args = TrainingArguments(\n",
    "    output_dir=\"./results\",\n",
    "    per_device_train_batch_size=4,\n",
    "    num_train_epochs=3,\n",
    "    save_steps=10_000,\n",
    "    save_total_limit=2,\n",
    "    logging_dir=\"./logs\",\n",
    "    logging_steps=500,\n",
    ")\n",
    "\n",
    "# Create the Trainer\n",
    "trainer = Trainer(\n",
    "    model=model,\n",
    "    args=training_args,\n",
    "    train_dataset=hf_dataset,\n",
    "    tokenizer=tokenizer,\n",
    "    data_collator=data_collator,\n",
    ")\n",
    "\n",
    "# Train the model\n",
    "trainer.train()\n"
   ]
  },
  {
   "cell_type": "markdown",
   "metadata": {},
   "source": [
    "# 7: post-process generated SPARQL queries\n",
    "\n",
    "After the model generates queries, we replace the masked tokens with the original entity names"
   ]
  },
  {
   "cell_type": "code",
   "execution_count": 25,
   "metadata": {},
   "outputs": [
    {
     "name": "stdout",
     "output_type": "stream",
     "text": [
      "SELECT ?label WHERE { <http://hub.laces.tech/semmtech/consultancy/demonstrations/industries/energy/otl/industry-demos---energy-objects-nen2660/Agent> <http://www.w3.org/2004/02/skos/core#prefLabel> ?label }\n"
     ]
    }
   ],
   "source": [
    "def replace_masked_entities(query, entity_map):\n",
    "    for mask, entity in entity_map.items():\n",
    "        query = query.replace(mask, entity)\n",
    "    return query\n",
    "\n",
    "# Example usage\n",
    "generated_query = \"SELECT ?label WHERE { [ENT1] <http://www.w3.org/2004/02/skos/core#prefLabel> ?label }\"\n",
    "entity_map = {\"[ENT1]\": \"<http://hub.laces.tech/semmtech/consultancy/demonstrations/industries/energy/otl/industry-demos---energy-objects-nen2660/Agent>\"}\n",
    "final_query = replace_masked_entities(generated_query, entity_map)\n",
    "print(final_query)\n"
   ]
  },
  {
   "cell_type": "code",
   "execution_count": 26,
   "metadata": {},
   "outputs": [
    {
     "name": "stdout",
     "output_type": "stream",
     "text": [
      "BLEU Score: 0\n"
     ]
    }
   ],
   "source": [
    "from nltk.translate.bleu_score import sentence_bleu\n",
    "\n",
    "# Example evaluation\n",
    "reference = [\"SELECT ?label WHERE { <http://hub.laces.tech/semmtech/consultancy/demonstrations/industries/energy/otl/industry-demos---energy-objects-nen2660/Agent> <http://www.w3.org/2004/02/skos/core#prefLabel> ?label }\"]\n",
    "candidate = [\"SELECT ?label WHERE { <http://hub.laces.tech/semmtech/consultancy/demonstrations/industries/energy/otl/industry-demos---energy-objects-nen2660/Agent> <http://www.w3.org/2004/02/skos/core#prefLabel> ?label }\"]\n",
    "score = sentence_bleu(reference, candidate)\n",
    "print(f\"BLEU Score: {score}\")\n"
   ]
  }
 ],
 "metadata": {
  "kernelspec": {
   "display_name": "base",
   "language": "python",
   "name": "python3"
  },
  "language_info": {
   "codemirror_mode": {
    "name": "ipython",
    "version": 3
   },
   "file_extension": ".py",
   "mimetype": "text/x-python",
   "name": "python",
   "nbconvert_exporter": "python",
   "pygments_lexer": "ipython3",
   "version": "3.12.2"
  }
 },
 "nbformat": 4,
 "nbformat_minor": 2
}
