{
 "cells": [
  {
   "cell_type": "code",
   "execution_count": null,
   "metadata": {},
   "outputs": [],
   "source": []
  },
  {
   "cell_type": "markdown",
   "metadata": {},
   "source": [
    "# 1: load and explore the TTL file"
   ]
  },
  {
   "cell_type": "code",
   "execution_count": 9,
   "metadata": {},
   "outputs": [
    {
     "name": "stdout",
     "output_type": "stream",
     "text": [
      "Subject: nd73dc6f484db4f83b5620b8f6b802449b254, Predicate: http://www.w3.org/ns/shacl#maxCount, Object: 1\n",
      "Subject: nd73dc6f484db4f83b5620b8f6b802449b63, Predicate: http://www.w3.org/2002/07/owl#onClass, Object: http://hub.laces.tech/semmtech/consultancy/demonstrations/industries/energy/otl/industry-demos---energy-objects-nen2660/6b6bea4b-2d9b-39f5-aeb9-8614a1a1d191\n",
      "Subject: http://hub.laces.tech/semmtech/consultancy/demonstrations/industries/energy/otl/industry-demos---energy-objects-nen2660/77f5c4fd-0e13-3b55-af57-25b2cb256d0c, Predicate: http://www.w3.org/2000/01/rdf-schema#subClassOf, Object: http://hub.laces.tech/semmtech/consultancy/demonstrations/industries/energy/otl/industry-demos---energy-objects-nen2660/4cc6225d-0cbe-34b3-a646-c9149f4ddce7\n",
      "Subject: http://hub.laces.tech/semmtech/consultancy/demonstrations/industries/energy/otl/industry-demos---energy-objects-nen2660/, Predicate: http://purl.org/dc/terms/date, Object: 2024-08-01182\n",
      "Subject: nd73dc6f484db4f83b5620b8f6b802449b44, Predicate: http://www.w3.org/2002/07/owl#minQualifiedCardinality, Object: 0\n",
      "Subject: http://hub.laces.tech/semmtech/consultancy/demonstrations/industries/energy/otl/industry-demos---energy-objects-nen2660/61809e33-2f88-3b36-a71d-1f126bfe5fd4, Predicate: http://www.w3.org/ns/shacl#property, Object: nd73dc6f484db4f83b5620b8f6b802449b236\n",
      "Subject: nd73dc6f484db4f83b5620b8f6b802449b40, Predicate: http://www.w3.org/ns/shacl#minCount, Object: 1\n",
      "Subject: nd73dc6f484db4f83b5620b8f6b802449b51, Predicate: http://www.w3.org/2002/07/owl#minQualifiedCardinality, Object: 0\n",
      "Subject: https://w3id.org/nen2660/def#RealObject, Predicate: http://www.w3.org/1999/02/22-rdf-syntax-ns#type, Object: http://www.w3.org/2002/07/owl#Class\n",
      "Subject: http://hub.laces.tech/semmtech/consultancy/demonstrations/industries/energy/otl/industry-demos---energy-objects-nen2660/5e82e35b-3249-3e08-b843-42c4a62ce84a, Predicate: http://www.w3.org/2000/01/rdf-schema#subClassOf, Object: http://hub.laces.tech/semmtech/consultancy/demonstrations/industries/energy/otl/industry-demos---energy-objects-nen2660/Risk\n"
     ]
    }
   ],
   "source": [
    "from rdflib import Graph\n",
    "\n",
    "# Load the TTL file\n",
    "g = Graph()\n",
    "g.parse(\"data/Industry_Demos_-_Energy_Objects_NEN2660_2_2024-10-01_1354.ttl\", format=\"ttl\")\n",
    "\n",
    "# Print a few triples to understand the structure\n",
    "for s, p, o in list(g)[:10]:\n",
    "    print(f\"Subject: {s}, Predicate: {p}, Object: {o}\")\n"
   ]
  },
  {
   "cell_type": "markdown",
   "metadata": {},
   "source": [
    "# 2: Generate synthetic NLQ-SPARQL pairs"
   ]
  },
  {
   "cell_type": "code",
   "execution_count": 10,
   "metadata": {},
   "outputs": [
    {
     "name": "stdout",
     "output_type": "stream",
     "text": [
      "[('What type is def#RealObject?', 'SELECT ?type WHERE { <https://w3id.org/nen2660/def#RealObject> <http://www.w3.org/1999/02/22-rdf-syntax-ns#type> ?type }'), ('What type is 3ad24e46-1418-360b-8ea1-4662a300bd1d-Shape?', 'SELECT ?type WHERE { <http://hub.laces.tech/semmtech/consultancy/demonstrations/industries/energy/otl/industry-demos---energy-objects-nen2660/3ad24e46-1418-360b-8ea1-4662a300bd1d-Shape> <http://www.w3.org/1999/02/22-rdf-syntax-ns#type> ?type }'), ('What type is Entity?', 'SELECT ?type WHERE { <nd73dc6f484db4f83b5620b8f6b802449b51> <http://www.w3.org/1999/02/22-rdf-syntax-ns#type> ?type }'), ('What type is Entity?', 'SELECT ?type WHERE { <nd73dc6f484db4f83b5620b8f6b802449b96> <http://www.w3.org/1999/02/22-rdf-syntax-ns#type> ?type }'), ('What type is 2bb708d3-e303-36c3-8d74-9d4b3b12cda5?', 'SELECT ?type WHERE { <http://hub.laces.tech/semmtech/consultancy/demonstrations/industries/energy/otl/industry-demos---energy-objects-nen2660/2bb708d3-e303-36c3-8d74-9d4b3b12cda5> <http://www.w3.org/1999/02/22-rdf-syntax-ns#type> ?type }')]\n"
     ]
    }
   ],
   "source": [
    "import rdflib\n",
    "\n",
    "# Function to generate synthetic NLQ-SPARQL pairs\n",
    "def generate_synthetic_data(graph, num_samples=100):\n",
    "    nlq_sparql_pairs = []\n",
    "\n",
    "    for s, p, o in list(graph)[:num_samples]:\n",
    "        subject_label = s.split(\"/\")[-1] if isinstance(s, rdflib.URIRef) else \"Entity\"\n",
    "        predicate_label = p.split(\"#\")[-1]\n",
    "\n",
    "        # Create questions based on observed predicates\n",
    "        if \"prefLabel\" in predicate_label:\n",
    "            nlq = f\"What is the label of {subject_label}?\"\n",
    "            sparql = f\"SELECT ?label WHERE {{ <{s}> <{p}> ?label }}\"\n",
    "        elif \"type\" in predicate_label:\n",
    "            nlq = f\"What type is {subject_label}?\"\n",
    "            sparql = f\"SELECT ?type WHERE {{ <{s}> <{p}> ?type }}\"\n",
    "        elif \"hasPart\" in predicate_label:\n",
    "            nlq = f\"What parts does {subject_label} have?\"\n",
    "            sparql = f\"SELECT ?part WHERE {{ <{s}> <{p}> ?part }}\"\n",
    "        else:\n",
    "            continue\n",
    "\n",
    "        nlq_sparql_pairs.append((nlq, sparql))\n",
    "\n",
    "    return nlq_sparql_pairs\n",
    "\n",
    "# Generate synthetic data\n",
    "synthetic_data = generate_synthetic_data(g)\n",
    "print(synthetic_data[:5])\n"
   ]
  },
  {
   "cell_type": "code",
   "execution_count": 11,
   "metadata": {},
   "outputs": [
    {
     "data": {
      "text/plain": [
       "[('What type is def#RealObject?',\n",
       "  'SELECT ?type WHERE { <https://w3id.org/nen2660/def#RealObject> <http://www.w3.org/1999/02/22-rdf-syntax-ns#type> ?type }'),\n",
       " ('What type is 3ad24e46-1418-360b-8ea1-4662a300bd1d-Shape?',\n",
       "  'SELECT ?type WHERE { <http://hub.laces.tech/semmtech/consultancy/demonstrations/industries/energy/otl/industry-demos---energy-objects-nen2660/3ad24e46-1418-360b-8ea1-4662a300bd1d-Shape> <http://www.w3.org/1999/02/22-rdf-syntax-ns#type> ?type }'),\n",
       " ('What type is Entity?',\n",
       "  'SELECT ?type WHERE { <nd73dc6f484db4f83b5620b8f6b802449b51> <http://www.w3.org/1999/02/22-rdf-syntax-ns#type> ?type }'),\n",
       " ('What type is Entity?',\n",
       "  'SELECT ?type WHERE { <nd73dc6f484db4f83b5620b8f6b802449b96> <http://www.w3.org/1999/02/22-rdf-syntax-ns#type> ?type }'),\n",
       " ('What type is 2bb708d3-e303-36c3-8d74-9d4b3b12cda5?',\n",
       "  'SELECT ?type WHERE { <http://hub.laces.tech/semmtech/consultancy/demonstrations/industries/energy/otl/industry-demos---energy-objects-nen2660/2bb708d3-e303-36c3-8d74-9d4b3b12cda5> <http://www.w3.org/1999/02/22-rdf-syntax-ns#type> ?type }'),\n",
       " ('What type is a6c2c248-e46c-371d-9ac1-4a193e904d0a?',\n",
       "  'SELECT ?type WHERE { <http://hub.laces.tech/semmtech/consultancy/demonstrations/industries/energy/otl/industry-demos---energy-objects-nen2660/a6c2c248-e46c-371d-9ac1-4a193e904d0a> <http://www.w3.org/1999/02/22-rdf-syntax-ns#type> ?type }'),\n",
       " ('What is the label of 69fdf0e0-3579-3467-81b4-a922874a5460?',\n",
       "  'SELECT ?label WHERE { <http://hub.laces.tech/semmtech/consultancy/demonstrations/industries/energy/otl/industry-demos---energy-objects-nen2660/69fdf0e0-3579-3467-81b4-a922874a5460> <http://www.w3.org/2004/02/skos/core#prefLabel> ?label }'),\n",
       " ('What type is cb6b4a15-9ab1-3190-bda9-bf0e676f0b4a?',\n",
       "  'SELECT ?type WHERE { <http://hub.laces.tech/semmtech/consultancy/demonstrations/industries/energy/otl/industry-demos---energy-objects-nen2660/cb6b4a15-9ab1-3190-bda9-bf0e676f0b4a> <http://www.w3.org/1999/02/22-rdf-syntax-ns#type> ?type }'),\n",
       " ('What is the label of a6c2c248-e46c-371d-9ac1-4a193e904d0a?',\n",
       "  'SELECT ?label WHERE { <http://hub.laces.tech/semmtech/consultancy/demonstrations/industries/energy/otl/industry-demos---energy-objects-nen2660/a6c2c248-e46c-371d-9ac1-4a193e904d0a> <http://www.w3.org/2004/02/skos/core#prefLabel> ?label }'),\n",
       " ('What type is 2b79ef9e-d5b8-331f-83fb-a32973ed3e53?',\n",
       "  'SELECT ?type WHERE { <http://hub.laces.tech/semmtech/consultancy/demonstrations/industries/energy/otl/industry-demos---energy-objects-nen2660/2b79ef9e-d5b8-331f-83fb-a32973ed3e53> <http://www.w3.org/1999/02/22-rdf-syntax-ns#type> ?type }'),\n",
       " ('What type is Entity?',\n",
       "  'SELECT ?type WHERE { <nd73dc6f484db4f83b5620b8f6b802449b202> <http://www.w3.org/ns/shacl#datatype> ?type }'),\n",
       " ('What type is Entity?',\n",
       "  'SELECT ?type WHERE { <nd73dc6f484db4f83b5620b8f6b802449b274> <http://www.w3.org/ns/shacl#datatype> ?type }'),\n",
       " ('What type is 275a9400-60e4-4af0-aefb-64ac57907b70?',\n",
       "  'SELECT ?type WHERE { <http://hub.laces.tech/semmtech/consultancy/demonstrations/industries/energy/otl/industry-demos---energy-objects-nen2660/275a9400-60e4-4af0-aefb-64ac57907b70> <http://www.w3.org/1999/02/22-rdf-syntax-ns#type> ?type }'),\n",
       " ('What type is ce79c862-7a64-33d8-931f-8c95e3f5dbb9?',\n",
       "  'SELECT ?type WHERE { <http://hub.laces.tech/semmtech/consultancy/demonstrations/industries/energy/otl/industry-demos---energy-objects-nen2660/ce79c862-7a64-33d8-931f-8c95e3f5dbb9> <http://www.w3.org/1999/02/22-rdf-syntax-ns#type> ?type }'),\n",
       " ('What type is Entity?',\n",
       "  'SELECT ?type WHERE { <nd73dc6f484db4f83b5620b8f6b802449b207> <http://www.w3.org/ns/shacl#datatype> ?type }'),\n",
       " ('What type is Entity?',\n",
       "  'SELECT ?type WHERE { <nd73dc6f484db4f83b5620b8f6b802449b32> <http://www.w3.org/1999/02/22-rdf-syntax-ns#type> ?type }'),\n",
       " ('What type is faad3fa5-e435-3827-81cd-aa939a08ebe0?',\n",
       "  'SELECT ?type WHERE { <http://hub.laces.tech/semmtech/consultancy/demonstrations/industries/energy/otl/industry-demos---energy-objects-nen2660/faad3fa5-e435-3827-81cd-aa939a08ebe0> <http://www.w3.org/1999/02/22-rdf-syntax-ns#type> ?type }'),\n",
       " ('What type is Entity?',\n",
       "  'SELECT ?type WHERE { <nd73dc6f484db4f83b5620b8f6b802449b43> <http://www.w3.org/1999/02/22-rdf-syntax-ns#type> ?type }'),\n",
       " ('What is the label of 0330f9d1-040d-31ae-8e29-8d7c28ab78a1?',\n",
       "  'SELECT ?label WHERE { <http://hub.laces.tech/semmtech/consultancy/demonstrations/industries/energy/otl/industry-demos---energy-objects-nen2660/0330f9d1-040d-31ae-8e29-8d7c28ab78a1> <http://www.w3.org/2004/02/skos/core#prefLabel> ?label }'),\n",
       " ('What type is Entity?',\n",
       "  'SELECT ?type WHERE { <nd73dc6f484db4f83b5620b8f6b802449b79> <http://www.w3.org/1999/02/22-rdf-syntax-ns#type> ?type }'),\n",
       " ('What type is 25a65626-3dc0-3860-8bcf-c42c47e85695?',\n",
       "  'SELECT ?type WHERE { <http://hub.laces.tech/semmtech/consultancy/demonstrations/industries/energy/otl/industry-demos---energy-objects-nen2660/25a65626-3dc0-3860-8bcf-c42c47e85695> <http://www.w3.org/1999/02/22-rdf-syntax-ns#type> ?type }'),\n",
       " ('What is the label of def#State?',\n",
       "  'SELECT ?label WHERE { <https://w3id.org/nen2660/def#State> <http://www.w3.org/2004/02/skos/core#prefLabel> ?label }'),\n",
       " ('What type is 4cc6225d-0cbe-34b3-a646-c9149f4ddce7-Shape?',\n",
       "  'SELECT ?type WHERE { <http://hub.laces.tech/semmtech/consultancy/demonstrations/industries/energy/otl/industry-demos---energy-objects-nen2660/4cc6225d-0cbe-34b3-a646-c9149f4ddce7-Shape> <http://www.w3.org/1999/02/22-rdf-syntax-ns#type> ?type }'),\n",
       " ('What type is f9ee2d43-614e-3eff-9574-f179acbc3ac9?',\n",
       "  'SELECT ?type WHERE { <http://hub.laces.tech/semmtech/consultancy/demonstrations/industries/energy/otl/industry-demos---energy-objects-nen2660/f9ee2d43-614e-3eff-9574-f179acbc3ac9> <http://www.w3.org/1999/02/22-rdf-syntax-ns#type> ?type }'),\n",
       " ('What type is c390a72a-69c5-3201-962e-2f8ee5280a08?',\n",
       "  'SELECT ?type WHERE { <http://hub.laces.tech/semmtech/consultancy/demonstrations/industries/energy/otl/industry-demos---energy-objects-nen2660/c390a72a-69c5-3201-962e-2f8ee5280a08> <http://www.w3.org/1999/02/22-rdf-syntax-ns#type> ?type }'),\n",
       " ('What type is Entity?',\n",
       "  'SELECT ?type WHERE { <nd73dc6f484db4f83b5620b8f6b802449b228> <http://www.w3.org/ns/shacl#datatype> ?type }'),\n",
       " ('What type is Entity?',\n",
       "  'SELECT ?type WHERE { <nd73dc6f484db4f83b5620b8f6b802449b148> <http://www.w3.org/ns/shacl#datatype> ?type }'),\n",
       " ('What type is 15977a8b-2895-3113-96cf-6a7bc86f0f7d?',\n",
       "  'SELECT ?type WHERE { <http://hub.laces.tech/semmtech/consultancy/demonstrations/industries/energy/otl/industry-demos---energy-objects-nen2660/15977a8b-2895-3113-96cf-6a7bc86f0f7d> <http://www.w3.org/1999/02/22-rdf-syntax-ns#type> ?type }'),\n",
       " ('What type is Entity?',\n",
       "  'SELECT ?type WHERE { <nd73dc6f484db4f83b5620b8f6b802449b242> <http://www.w3.org/ns/shacl#datatype> ?type }'),\n",
       " ('What is the label of Risk?',\n",
       "  'SELECT ?label WHERE { <http://hub.laces.tech/semmtech/consultancy/demonstrations/industries/energy/otl/industry-demos---energy-objects-nen2660/Risk> <http://www.w3.org/2004/02/skos/core#prefLabel> ?label }'),\n",
       " ('What type is 6bb0b01b-046d-3137-9ec9-bcea23e031db?',\n",
       "  'SELECT ?type WHERE { <http://hub.laces.tech/semmtech/consultancy/demonstrations/industries/energy/otl/industry-demos---energy-objects-nen2660/6bb0b01b-046d-3137-9ec9-bcea23e031db> <http://www.w3.org/1999/02/22-rdf-syntax-ns#type> ?type }'),\n",
       " ('What is the label of def#GeometricEntity?',\n",
       "  'SELECT ?label WHERE { <https://w3id.org/nen2660/def#GeometricEntity> <http://www.w3.org/2004/02/skos/core#prefLabel> ?label }'),\n",
       " ('What type is aa97885d-c9dd-34e5-9e97-31cd4334052d?',\n",
       "  'SELECT ?type WHERE { <http://hub.laces.tech/semmtech/consultancy/demonstrations/industries/energy/otl/industry-demos---energy-objects-nen2660/aa97885d-c9dd-34e5-9e97-31cd4334052d> <http://www.w3.org/1999/02/22-rdf-syntax-ns#type> ?type }')]"
      ]
     },
     "execution_count": 11,
     "metadata": {},
     "output_type": "execute_result"
    }
   ],
   "source": [
    "synthetic_data"
   ]
  },
  {
   "cell_type": "markdown",
   "metadata": {},
   "source": [
    "# 3: mask entities in NLQs"
   ]
  },
  {
   "cell_type": "code",
   "execution_count": 12,
   "metadata": {},
   "outputs": [
    {
     "name": "stdout",
     "output_type": "stream",
     "text": [
      "What is the label of [ENT1]?\n"
     ]
    }
   ],
   "source": [
    "import re\n",
    "\n",
    "# Function to mask entities in NLQs\n",
    "def mask_entities(nlq, entities):\n",
    "    masked_nlq = nlq\n",
    "    for i, entity in enumerate(entities):\n",
    "        masked_nlq = re.sub(entity, f\"[ENT{i+1}]\", masked_nlq)\n",
    "    return masked_nlq\n",
    "\n",
    "# Example usage\n",
    "entities = [\"Agent\", \"Convertor\"]\n",
    "nlq = \"What is the label of Agent?\"\n",
    "masked_nlq = mask_entities(nlq, entities)\n",
    "print(masked_nlq)  # Output: \"What is the label of [ENT1]?\"\n"
   ]
  },
  {
   "cell_type": "markdown",
   "metadata": {},
   "source": [
    "# 4: fine-tune a GPT-2 model"
   ]
  },
  {
   "cell_type": "code",
   "execution_count": 14,
   "metadata": {},
   "outputs": [
    {
     "ename": "ImportError",
     "evalue": "Using the `Trainer` with `PyTorch` requires `accelerate>=0.26.0`: Please run `pip install transformers[torch]` or `pip install 'accelerate>={ACCELERATE_MIN_VERSION}'`",
     "output_type": "error",
     "traceback": [
      "\u001b[0;31m---------------------------------------------------------------------------\u001b[0m",
      "\u001b[0;31mImportError\u001b[0m                               Traceback (most recent call last)",
      "Cell \u001b[0;32mIn[14], line 16\u001b[0m\n\u001b[1;32m     13\u001b[0m     \u001b[38;5;28;01mreturn\u001b[39;00m tokenizer(example[\u001b[38;5;124m\"\u001b[39m\u001b[38;5;124minput_text\u001b[39m\u001b[38;5;124m\"\u001b[39m], text_target\u001b[38;5;241m=\u001b[39mexample[\u001b[38;5;124m\"\u001b[39m\u001b[38;5;124moutput_text\u001b[39m\u001b[38;5;124m\"\u001b[39m], truncation\u001b[38;5;241m=\u001b[39m\u001b[38;5;28;01mTrue\u001b[39;00m)\n\u001b[1;32m     15\u001b[0m \u001b[38;5;66;03m# Fine-tuning setup\u001b[39;00m\n\u001b[0;32m---> 16\u001b[0m training_args \u001b[38;5;241m=\u001b[39m TrainingArguments(\n\u001b[1;32m     17\u001b[0m     output_dir\u001b[38;5;241m=\u001b[39m\u001b[38;5;124m\"\u001b[39m\u001b[38;5;124m./results\u001b[39m\u001b[38;5;124m\"\u001b[39m,\n\u001b[1;32m     18\u001b[0m     per_device_train_batch_size\u001b[38;5;241m=\u001b[39m\u001b[38;5;241m4\u001b[39m,\n\u001b[1;32m     19\u001b[0m     num_train_epochs\u001b[38;5;241m=\u001b[39m\u001b[38;5;241m3\u001b[39m,\n\u001b[1;32m     20\u001b[0m     save_steps\u001b[38;5;241m=\u001b[39m\u001b[38;5;241m10_000\u001b[39m,\n\u001b[1;32m     21\u001b[0m     save_total_limit\u001b[38;5;241m=\u001b[39m\u001b[38;5;241m2\u001b[39m,\n\u001b[1;32m     22\u001b[0m )\n\u001b[1;32m     24\u001b[0m trainer \u001b[38;5;241m=\u001b[39m Trainer(\n\u001b[1;32m     25\u001b[0m     model\u001b[38;5;241m=\u001b[39mmodel,\n\u001b[1;32m     26\u001b[0m     args\u001b[38;5;241m=\u001b[39mtraining_args,\n\u001b[1;32m     27\u001b[0m     train_dataset\u001b[38;5;241m=\u001b[39mtrain_data,\n\u001b[1;32m     28\u001b[0m     tokenizer\u001b[38;5;241m=\u001b[39mtokenizer,\n\u001b[1;32m     29\u001b[0m )\n\u001b[1;32m     31\u001b[0m \u001b[38;5;66;03m# Train the model\u001b[39;00m\n",
      "File \u001b[0;32m<string>:134\u001b[0m, in \u001b[0;36m__init__\u001b[0;34m(self, output_dir, overwrite_output_dir, do_train, do_eval, do_predict, eval_strategy, prediction_loss_only, per_device_train_batch_size, per_device_eval_batch_size, per_gpu_train_batch_size, per_gpu_eval_batch_size, gradient_accumulation_steps, eval_accumulation_steps, eval_delay, torch_empty_cache_steps, learning_rate, weight_decay, adam_beta1, adam_beta2, adam_epsilon, max_grad_norm, num_train_epochs, max_steps, lr_scheduler_type, lr_scheduler_kwargs, warmup_ratio, warmup_steps, log_level, log_level_replica, log_on_each_node, logging_dir, logging_strategy, logging_first_step, logging_steps, logging_nan_inf_filter, save_strategy, save_steps, save_total_limit, save_safetensors, save_on_each_node, save_only_model, restore_callback_states_from_checkpoint, no_cuda, use_cpu, use_mps_device, seed, data_seed, jit_mode_eval, use_ipex, bf16, fp16, fp16_opt_level, half_precision_backend, bf16_full_eval, fp16_full_eval, tf32, local_rank, ddp_backend, tpu_num_cores, tpu_metrics_debug, debug, dataloader_drop_last, eval_steps, dataloader_num_workers, dataloader_prefetch_factor, past_index, run_name, disable_tqdm, remove_unused_columns, label_names, load_best_model_at_end, metric_for_best_model, greater_is_better, ignore_data_skip, fsdp, fsdp_min_num_params, fsdp_config, fsdp_transformer_layer_cls_to_wrap, accelerator_config, deepspeed, label_smoothing_factor, optim, optim_args, adafactor, group_by_length, length_column_name, report_to, ddp_find_unused_parameters, ddp_bucket_cap_mb, ddp_broadcast_buffers, dataloader_pin_memory, dataloader_persistent_workers, skip_memory_metrics, use_legacy_prediction_loop, push_to_hub, resume_from_checkpoint, hub_model_id, hub_strategy, hub_token, hub_private_repo, hub_always_push, gradient_checkpointing, gradient_checkpointing_kwargs, include_inputs_for_metrics, include_for_metrics, eval_do_concat_batches, fp16_backend, evaluation_strategy, push_to_hub_model_id, push_to_hub_organization, push_to_hub_token, mp_parameters, auto_find_batch_size, full_determinism, torchdynamo, ray_scope, ddp_timeout, torch_compile, torch_compile_backend, torch_compile_mode, dispatch_batches, split_batches, include_tokens_per_second, include_num_input_tokens_seen, neftune_noise_alpha, optim_target_modules, batch_eval_metrics, eval_on_start, use_liger_kernel, eval_use_gather_object, average_tokens_across_devices)\u001b[0m\n",
      "File \u001b[0;32m/opt/anaconda3/lib/python3.12/site-packages/transformers/training_args.py:1780\u001b[0m, in \u001b[0;36m__post_init__\u001b[0;34m(self)\u001b[0m\n\u001b[1;32m   1776\u001b[0m         \u001b[38;5;66;03m# no need to assert on else\u001b[39;00m\n\u001b[1;32m   1777\u001b[0m \n\u001b[1;32m   1778\u001b[0m \u001b[38;5;66;03m# if training args is specified, it will override the one specified in the accelerate config\u001b[39;00m\n\u001b[1;32m   1779\u001b[0m \u001b[38;5;28;01mif\u001b[39;00m \u001b[38;5;28mself\u001b[39m\u001b[38;5;241m.\u001b[39mhalf_precision_backend \u001b[38;5;241m!=\u001b[39m \u001b[38;5;124m\"\u001b[39m\u001b[38;5;124mapex\u001b[39m\u001b[38;5;124m\"\u001b[39m:\n\u001b[0;32m-> 1780\u001b[0m     mixed_precision_dtype \u001b[38;5;241m=\u001b[39m os\u001b[38;5;241m.\u001b[39menviron\u001b[38;5;241m.\u001b[39mget(\u001b[38;5;124m\"\u001b[39m\u001b[38;5;124mACCELERATE_MIXED_PRECISION\u001b[39m\u001b[38;5;124m\"\u001b[39m, \u001b[38;5;124m\"\u001b[39m\u001b[38;5;124mno\u001b[39m\u001b[38;5;124m\"\u001b[39m)\n\u001b[1;32m   1781\u001b[0m     \u001b[38;5;28;01mif\u001b[39;00m \u001b[38;5;28mself\u001b[39m\u001b[38;5;241m.\u001b[39mfp16:\n\u001b[1;32m   1782\u001b[0m         mixed_precision_dtype \u001b[38;5;241m=\u001b[39m \u001b[38;5;124m\"\u001b[39m\u001b[38;5;124mfp16\u001b[39m\u001b[38;5;124m\"\u001b[39m\n",
      "File \u001b[0;32m/opt/anaconda3/lib/python3.12/site-packages/transformers/training_args.py:2306\u001b[0m, in \u001b[0;36mTrainingArguments.device\u001b[0;34m(self)\u001b[0m\n\u001b[1;32m   2302\u001b[0m \u001b[38;5;250m\u001b[39m\u001b[38;5;124;03m\"\"\"\u001b[39;00m\n\u001b[1;32m   2303\u001b[0m \u001b[38;5;124;03mThe device used by this process.\u001b[39;00m\n\u001b[1;32m   2304\u001b[0m \u001b[38;5;124;03m\"\"\"\u001b[39;00m\n\u001b[1;32m   2305\u001b[0m requires_backends(\u001b[38;5;28mself\u001b[39m, [\u001b[38;5;124m\"\u001b[39m\u001b[38;5;124mtorch\u001b[39m\u001b[38;5;124m\"\u001b[39m])\n\u001b[0;32m-> 2306\u001b[0m \u001b[38;5;28;01mreturn\u001b[39;00m \u001b[38;5;28mself\u001b[39m\u001b[38;5;241m.\u001b[39m_setup_devices\n",
      "File \u001b[0;32m/opt/anaconda3/lib/python3.12/site-packages/transformers/utils/generic.py:60\u001b[0m, in \u001b[0;36mcached_property.__get__\u001b[0;34m(self, obj, objtype)\u001b[0m\n\u001b[1;32m     58\u001b[0m cached \u001b[38;5;241m=\u001b[39m \u001b[38;5;28mgetattr\u001b[39m(obj, attr, \u001b[38;5;28;01mNone\u001b[39;00m)\n\u001b[1;32m     59\u001b[0m \u001b[38;5;28;01mif\u001b[39;00m cached \u001b[38;5;129;01mis\u001b[39;00m \u001b[38;5;28;01mNone\u001b[39;00m:\n\u001b[0;32m---> 60\u001b[0m     cached \u001b[38;5;241m=\u001b[39m \u001b[38;5;28mself\u001b[39m\u001b[38;5;241m.\u001b[39mfget(obj)\n\u001b[1;32m     61\u001b[0m     \u001b[38;5;28msetattr\u001b[39m(obj, attr, cached)\n\u001b[1;32m     62\u001b[0m \u001b[38;5;28;01mreturn\u001b[39;00m cached\n",
      "File \u001b[0;32m/opt/anaconda3/lib/python3.12/site-packages/transformers/training_args.py:2179\u001b[0m, in \u001b[0;36mTrainingArguments._setup_devices\u001b[0;34m(self)\u001b[0m\n\u001b[1;32m   2177\u001b[0m \u001b[38;5;28;01mif\u001b[39;00m \u001b[38;5;129;01mnot\u001b[39;00m is_sagemaker_mp_enabled():\n\u001b[1;32m   2178\u001b[0m     \u001b[38;5;28;01mif\u001b[39;00m \u001b[38;5;129;01mnot\u001b[39;00m is_accelerate_available():\n\u001b[0;32m-> 2179\u001b[0m         \u001b[38;5;28;01mraise\u001b[39;00m \u001b[38;5;167;01mImportError\u001b[39;00m(\n\u001b[1;32m   2180\u001b[0m             \u001b[38;5;124mf\u001b[39m\u001b[38;5;124m\"\u001b[39m\u001b[38;5;124mUsing the `Trainer` with `PyTorch` requires `accelerate>=\u001b[39m\u001b[38;5;132;01m{\u001b[39;00mACCELERATE_MIN_VERSION\u001b[38;5;132;01m}\u001b[39;00m\u001b[38;5;124m`: \u001b[39m\u001b[38;5;124m\"\u001b[39m\n\u001b[1;32m   2181\u001b[0m             \u001b[38;5;124m\"\u001b[39m\u001b[38;5;124mPlease run `pip install transformers[torch]` or `pip install \u001b[39m\u001b[38;5;124m'\u001b[39m\u001b[38;5;124maccelerate>=\u001b[39m\u001b[38;5;132;01m{ACCELERATE_MIN_VERSION}\u001b[39;00m\u001b[38;5;124m'\u001b[39m\u001b[38;5;124m`\u001b[39m\u001b[38;5;124m\"\u001b[39m\n\u001b[1;32m   2182\u001b[0m         )\n\u001b[1;32m   2183\u001b[0m \u001b[38;5;66;03m# We delay the init of `PartialState` to the end for clarity\u001b[39;00m\n\u001b[1;32m   2184\u001b[0m accelerator_state_kwargs \u001b[38;5;241m=\u001b[39m {\u001b[38;5;124m\"\u001b[39m\u001b[38;5;124menabled\u001b[39m\u001b[38;5;124m\"\u001b[39m: \u001b[38;5;28;01mTrue\u001b[39;00m, \u001b[38;5;124m\"\u001b[39m\u001b[38;5;124muse_configured_state\u001b[39m\u001b[38;5;124m\"\u001b[39m: \u001b[38;5;28;01mFalse\u001b[39;00m}\n",
      "\u001b[0;31mImportError\u001b[0m: Using the `Trainer` with `PyTorch` requires `accelerate>=0.26.0`: Please run `pip install transformers[torch]` or `pip install 'accelerate>={ACCELERATE_MIN_VERSION}'`"
     ]
    }
   ],
   "source": [
    "from transformers import GPT2LMHeadModel, GPT2Tokenizer, Trainer, TrainingArguments\n",
    "\n",
    "# Load pre-trained GPT-2\n",
    "model = GPT2LMHeadModel.from_pretrained(\"gpt2\")\n",
    "tokenizer = GPT2Tokenizer.from_pretrained(\"gpt2\")\n",
    "\n",
    "# Tokenize the synthetic data\n",
    "train_data = [{\"input_text\": mask_entities(nlq, [\"Agent\", \"Convertor\"]), \"output_text\": sparql}\n",
    "              for nlq, sparql in synthetic_data]\n",
    "\n",
    "# Tokenization function\n",
    "def tokenize_function(example):\n",
    "    return tokenizer(example[\"input_text\"], text_target=example[\"output_text\"], truncation=True)\n",
    "\n",
    "# Fine-tuning setup\n",
    "training_args = TrainingArguments(\n",
    "    output_dir=\"./results\",\n",
    "    per_device_train_batch_size=4,\n",
    "    num_train_epochs=3,\n",
    "    save_steps=10_000,\n",
    "    save_total_limit=2,\n",
    ")\n",
    "\n",
    "trainer = Trainer(\n",
    "    model=model,\n",
    "    args=training_args,\n",
    "    train_dataset=train_data,\n",
    "    tokenizer=tokenizer,\n",
    ")\n",
    "\n",
    "# Train the model\n",
    "trainer.train()\n"
   ]
  },
  {
   "cell_type": "code",
   "execution_count": 15,
   "metadata": {},
   "outputs": [
    {
     "name": "stdout",
     "output_type": "stream",
     "text": [
      "4.47.0\n",
      "2.5.1\n",
      "1.2.1\n"
     ]
    }
   ],
   "source": [
    "import transformers\n",
    "import torch\n",
    "import accelerate\n",
    "\n",
    "print(transformers.__version__)\n",
    "print(torch.__version__)\n",
    "print(accelerate.__version__)\n",
    "\n"
   ]
  },
  {
   "cell_type": "markdown",
   "metadata": {},
   "source": [
    "# 5: post-process generated SPARQL queries"
   ]
  },
  {
   "cell_type": "code",
   "execution_count": null,
   "metadata": {},
   "outputs": [],
   "source": [
    "def replace_masked_entities(query, entity_map):\n",
    "    for mask, entity in entity_map.items():\n",
    "        query = query.replace(mask, entity)\n",
    "    return query\n",
    "\n",
    "# Example usage\n",
    "generated_query = \"SELECT ?label WHERE { [ENT1] <http://www.w3.org/2004/02/skos/core#prefLabel> ?label }\"\n",
    "entity_map = {\"[ENT1]\": \"<http://hub.laces.tech/semmtech/consultancy/demonstrations/industries/energy/otl/industry-demos---energy-objects-nen2660/Agent>\"}\n",
    "final_query = replace_masked_entities(generated_query, entity_map)\n",
    "print(final_query)\n"
   ]
  }
 ],
 "metadata": {
  "kernelspec": {
   "display_name": "base",
   "language": "python",
   "name": "python3"
  },
  "language_info": {
   "codemirror_mode": {
    "name": "ipython",
    "version": 3
   },
   "file_extension": ".py",
   "mimetype": "text/x-python",
   "name": "python",
   "nbconvert_exporter": "python",
   "pygments_lexer": "ipython3",
   "version": "3.12.2"
  }
 },
 "nbformat": 4,
 "nbformat_minor": 2
}
